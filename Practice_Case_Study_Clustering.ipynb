{
 "cells": [
  {
   "cell_type": "markdown",
   "metadata": {
    "id": "IqkGV5pXRISd"
   },
   "source": [
    "# **Socio-economic Factors for Geographic Clustering**\n",
    "\n",
    "-----------------------------------------\n",
    "## **Context**\n",
    "-----------------------------------------\n",
    "\n",
    "The study of socio-economic factors is foundational to understanding and shaping the future of societies and hence of extreme interest to various government and non-government institutions. While GDP is one of the important measures used in one of the popular economic vernacular, it is not the only measure of the growth and the state of an economy. This case study aims to deep dive into one such dataset that contains various socio-economic attributes for countries around the world.\n",
    "\n",
    "-----------------------------------------\n",
    "## **Objective**\n",
    "-----------------------------------------\n",
    "\n",
    "To identify if there exist various clusters of countries that are more similar to each other than others, in terms of certain socio-economic factors.\n",
    "\n",
    "------------------------\n",
    "## **Data Dictionary**\n",
    "-------------------------\n",
    "The data has the following attributes:\n",
    "- country: Name of the country\n",
    "- child_mort: Death of children under 5 years of age per 1000 live births\n",
    "- exports - Exports in % of the GDP per capita\n",
    "- health - The total spend on health given as % of GDP\n",
    "- imports - The value of imports given as % of GDP per capita\n",
    "- income - The net income per person\n",
    "- inflation - Inflation rate %\n",
    "- life_expec - Average life expectancy in years\n",
    "- total_fer - The fertility rate - Average children per woman in the country\n",
    "- gdpp - GDP per capita\n",
    "\n",
    "In the dataset, we will not do clustering on the GDP. We will rather try to understand the variation of other factors with GDP across the groups that we get."
   ]
  },
  {
   "cell_type": "markdown",
   "metadata": {
    "id": "5Fxb-LZvR_ne"
   },
   "source": [
    "## **Importing the libraries and overview of the dataset**"
   ]
  },
  {
   "cell_type": "markdown",
   "metadata": {
    "id": "RQ1EB9J9vEtO"
   },
   "source": [
    "**Note:** Please make sure you have installed the sklearn_extra library before running the below cell. If you have not installed the library, please run the below code to install the library:\n",
    "\n",
    "!pip install scikit-learn-extra"
   ]
  },
  {
   "cell_type": "code",
   "execution_count": 1,
   "metadata": {
    "executionInfo": {
     "elapsed": 1424,
     "status": "ok",
     "timestamp": 1673104042577,
     "user": {
      "displayName": "Abhinav Harsh",
      "userId": "08825161285052345463"
     },
     "user_tz": -330
    },
    "id": "hz5mbOa4lfvt"
   },
   "outputs": [],
   "source": [
    "import pandas as pd\n",
    "\n",
    "import numpy as np\n",
    "\n",
    "import matplotlib.pylab as plt\n",
    "\n",
    "import seaborn as sns\n",
    "\n",
    "# To scale the data using z-score \n",
    "from sklearn.preprocessing import StandardScaler\n",
    "\n",
    "# Importing clustering algorithms\n",
    "from sklearn.cluster import KMeans\n",
    "\n",
    "# Silhouette score\n",
    "from sklearn.metrics import silhouette_score\n",
    "\n",
    "import warnings\n",
    "warnings.filterwarnings(\"ignore\")"
   ]
  },
  {
   "cell_type": "markdown",
   "metadata": {
    "id": "3LI0fZb5lfvu"
   },
   "source": [
    "### **Loading the data**"
   ]
  },
  {
   "cell_type": "code",
   "execution_count": 3,
   "metadata": {
    "colab": {
     "base_uri": "https://localhost:8080/",
     "height": 223
    },
    "executionInfo": {
     "elapsed": 25432,
     "status": "ok",
     "timestamp": 1673104136744,
     "user": {
      "displayName": "Abhinav Harsh",
      "userId": "08825161285052345463"
     },
     "user_tz": -330
    },
    "id": "9ne1HPNyRGAW",
    "outputId": "2d66e0fe-24f6-4b73-cb34-6fa8ae8412e0"
   },
   "outputs": [
    {
     "data": {
      "text/html": [
       "<div>\n",
       "<style scoped>\n",
       "    .dataframe tbody tr th:only-of-type {\n",
       "        vertical-align: middle;\n",
       "    }\n",
       "\n",
       "    .dataframe tbody tr th {\n",
       "        vertical-align: top;\n",
       "    }\n",
       "\n",
       "    .dataframe thead th {\n",
       "        text-align: right;\n",
       "    }\n",
       "</style>\n",
       "<table border=\"1\" class=\"dataframe\">\n",
       "  <thead>\n",
       "    <tr style=\"text-align: right;\">\n",
       "      <th></th>\n",
       "      <th>country</th>\n",
       "      <th>child_mort</th>\n",
       "      <th>exports</th>\n",
       "      <th>health</th>\n",
       "      <th>imports</th>\n",
       "      <th>income</th>\n",
       "      <th>inflation</th>\n",
       "      <th>life_expec</th>\n",
       "      <th>total_fer</th>\n",
       "      <th>gdpp</th>\n",
       "    </tr>\n",
       "  </thead>\n",
       "  <tbody>\n",
       "    <tr>\n",
       "      <th>0</th>\n",
       "      <td>Afghanistan</td>\n",
       "      <td>90.2</td>\n",
       "      <td>10.0</td>\n",
       "      <td>7.58</td>\n",
       "      <td>44.9</td>\n",
       "      <td>1610</td>\n",
       "      <td>9.44</td>\n",
       "      <td>56.2</td>\n",
       "      <td>5.82</td>\n",
       "      <td>553</td>\n",
       "    </tr>\n",
       "    <tr>\n",
       "      <th>1</th>\n",
       "      <td>Albania</td>\n",
       "      <td>16.6</td>\n",
       "      <td>28.0</td>\n",
       "      <td>6.55</td>\n",
       "      <td>48.6</td>\n",
       "      <td>9930</td>\n",
       "      <td>4.49</td>\n",
       "      <td>76.3</td>\n",
       "      <td>1.65</td>\n",
       "      <td>4090</td>\n",
       "    </tr>\n",
       "    <tr>\n",
       "      <th>2</th>\n",
       "      <td>Algeria</td>\n",
       "      <td>27.3</td>\n",
       "      <td>38.4</td>\n",
       "      <td>4.17</td>\n",
       "      <td>31.4</td>\n",
       "      <td>12900</td>\n",
       "      <td>16.10</td>\n",
       "      <td>76.5</td>\n",
       "      <td>2.89</td>\n",
       "      <td>4460</td>\n",
       "    </tr>\n",
       "    <tr>\n",
       "      <th>3</th>\n",
       "      <td>Angola</td>\n",
       "      <td>119.0</td>\n",
       "      <td>62.3</td>\n",
       "      <td>2.85</td>\n",
       "      <td>42.9</td>\n",
       "      <td>5900</td>\n",
       "      <td>22.40</td>\n",
       "      <td>60.1</td>\n",
       "      <td>6.16</td>\n",
       "      <td>3530</td>\n",
       "    </tr>\n",
       "    <tr>\n",
       "      <th>4</th>\n",
       "      <td>Antigua and Barbuda</td>\n",
       "      <td>10.3</td>\n",
       "      <td>45.5</td>\n",
       "      <td>6.03</td>\n",
       "      <td>58.9</td>\n",
       "      <td>19100</td>\n",
       "      <td>1.44</td>\n",
       "      <td>76.8</td>\n",
       "      <td>2.13</td>\n",
       "      <td>12200</td>\n",
       "    </tr>\n",
       "  </tbody>\n",
       "</table>\n",
       "</div>"
      ],
      "text/plain": [
       "               country  child_mort  exports  health  imports  income  \\\n",
       "0          Afghanistan        90.2     10.0    7.58     44.9    1610   \n",
       "1              Albania        16.6     28.0    6.55     48.6    9930   \n",
       "2              Algeria        27.3     38.4    4.17     31.4   12900   \n",
       "3               Angola       119.0     62.3    2.85     42.9    5900   \n",
       "4  Antigua and Barbuda        10.3     45.5    6.03     58.9   19100   \n",
       "\n",
       "   inflation  life_expec  total_fer   gdpp  \n",
       "0       9.44        56.2       5.82    553  \n",
       "1       4.49        76.3       1.65   4090  \n",
       "2      16.10        76.5       2.89   4460  \n",
       "3      22.40        60.1       6.16   3530  \n",
       "4       1.44        76.8       2.13  12200  "
      ]
     },
     "execution_count": 3,
     "metadata": {},
     "output_type": "execute_result"
    }
   ],
   "source": [
    "\n",
    "data = pd.read_csv(\"Country-data.csv\")\n",
    "\n",
    "# data = pd.read_csv(\"Country-data.csv\")\n",
    "\n",
    "data.head()"
   ]
  },
  {
   "cell_type": "markdown",
   "metadata": {
    "id": "Cs6ozDQhlfvw"
   },
   "source": [
    "### **Checking the info of the data**"
   ]
  },
  {
   "cell_type": "code",
   "execution_count": 4,
   "metadata": {
    "colab": {
     "base_uri": "https://localhost:8080/"
    },
    "executionInfo": {
     "elapsed": 395,
     "status": "ok",
     "timestamp": 1673104343730,
     "user": {
      "displayName": "Abhinav Harsh",
      "userId": "08825161285052345463"
     },
     "user_tz": -330
    },
    "id": "7YurBSmKtgoA",
    "outputId": "344ab128-65f2-4f56-a6fb-ad12631f58cf"
   },
   "outputs": [
    {
     "name": "stdout",
     "output_type": "stream",
     "text": [
      "<class 'pandas.core.frame.DataFrame'>\n",
      "RangeIndex: 167 entries, 0 to 166\n",
      "Data columns (total 10 columns):\n",
      " #   Column      Non-Null Count  Dtype  \n",
      "---  ------      --------------  -----  \n",
      " 0   country     167 non-null    object \n",
      " 1   child_mort  167 non-null    float64\n",
      " 2   exports     167 non-null    float64\n",
      " 3   health      167 non-null    float64\n",
      " 4   imports     167 non-null    float64\n",
      " 5   income      167 non-null    int64  \n",
      " 6   inflation   167 non-null    float64\n",
      " 7   life_expec  167 non-null    float64\n",
      " 8   total_fer   167 non-null    float64\n",
      " 9   gdpp        167 non-null    int64  \n",
      "dtypes: float64(7), int64(2), object(1)\n",
      "memory usage: 13.2+ KB\n"
     ]
    }
   ],
   "source": [
    "data.info()"
   ]
  },
  {
   "cell_type": "markdown",
   "metadata": {
    "id": "e6jCsXwJYy5x"
   },
   "source": [
    "**Observations:**\n",
    " \n",
    " - There are **167 observations and 10 columns** in the data.\n",
    " - All columns have 167 non-null values, i.e., there are **no missing values**.\n",
    " - All the **columns except the country name are numerical**.\n",
    " - Everything looks great, let's move ahead to check for duplicates."
   ]
  },
  {
   "cell_type": "markdown",
   "metadata": {
    "id": "t2k0neVTlfvx"
   },
   "source": [
    "### **Check duplicate entries**"
   ]
  },
  {
   "cell_type": "code",
   "execution_count": 5,
   "metadata": {
    "colab": {
     "base_uri": "https://localhost:8080/",
     "height": 49
    },
    "executionInfo": {
     "elapsed": 476,
     "status": "ok",
     "timestamp": 1673104564991,
     "user": {
      "displayName": "Abhinav Harsh",
      "userId": "08825161285052345463"
     },
     "user_tz": -330
    },
    "id": "YhCzI79Ylfvx",
    "outputId": "2774b863-e560-46dd-ce99-d59cf97b795c"
   },
   "outputs": [
    {
     "data": {
      "text/html": [
       "<div>\n",
       "<style scoped>\n",
       "    .dataframe tbody tr th:only-of-type {\n",
       "        vertical-align: middle;\n",
       "    }\n",
       "\n",
       "    .dataframe tbody tr th {\n",
       "        vertical-align: top;\n",
       "    }\n",
       "\n",
       "    .dataframe thead th {\n",
       "        text-align: right;\n",
       "    }\n",
       "</style>\n",
       "<table border=\"1\" class=\"dataframe\">\n",
       "  <thead>\n",
       "    <tr style=\"text-align: right;\">\n",
       "      <th></th>\n",
       "      <th>country</th>\n",
       "      <th>child_mort</th>\n",
       "      <th>exports</th>\n",
       "      <th>health</th>\n",
       "      <th>imports</th>\n",
       "      <th>income</th>\n",
       "      <th>inflation</th>\n",
       "      <th>life_expec</th>\n",
       "      <th>total_fer</th>\n",
       "      <th>gdpp</th>\n",
       "    </tr>\n",
       "  </thead>\n",
       "  <tbody>\n",
       "  </tbody>\n",
       "</table>\n",
       "</div>"
      ],
      "text/plain": [
       "Empty DataFrame\n",
       "Columns: [country, child_mort, exports, health, imports, income, inflation, life_expec, total_fer, gdpp]\n",
       "Index: []"
      ]
     },
     "execution_count": 5,
     "metadata": {},
     "output_type": "execute_result"
    }
   ],
   "source": [
    "data[data.duplicated()]"
   ]
  },
  {
   "cell_type": "markdown",
   "metadata": {
    "id": "FRuEXmMBlfvx"
   },
   "source": [
    "- There are **no duplicate rows** in the data. That's good. "
   ]
  },
  {
   "cell_type": "markdown",
   "metadata": {
    "id": "HwmEnP-qlfvx"
   },
   "source": [
    "## **Exploratory Data Analysis**"
   ]
  },
  {
   "cell_type": "markdown",
   "metadata": {
    "id": "ZG4l7AH0lfvy"
   },
   "source": [
    "### **Summary Statistics**"
   ]
  },
  {
   "cell_type": "code",
   "execution_count": 6,
   "metadata": {
    "colab": {
     "base_uri": "https://localhost:8080/",
     "height": 332
    },
    "executionInfo": {
     "elapsed": 463,
     "status": "ok",
     "timestamp": 1673104589759,
     "user": {
      "displayName": "Abhinav Harsh",
      "userId": "08825161285052345463"
     },
     "user_tz": -330
    },
    "id": "Hy-qXl2R9YqY",
    "outputId": "54d3046b-d6fa-4e7c-b6b3-e678a6d231bc"
   },
   "outputs": [
    {
     "data": {
      "text/html": [
       "<div>\n",
       "<style scoped>\n",
       "    .dataframe tbody tr th:only-of-type {\n",
       "        vertical-align: middle;\n",
       "    }\n",
       "\n",
       "    .dataframe tbody tr th {\n",
       "        vertical-align: top;\n",
       "    }\n",
       "\n",
       "    .dataframe thead th {\n",
       "        text-align: right;\n",
       "    }\n",
       "</style>\n",
       "<table border=\"1\" class=\"dataframe\">\n",
       "  <thead>\n",
       "    <tr style=\"text-align: right;\">\n",
       "      <th></th>\n",
       "      <th>count</th>\n",
       "      <th>mean</th>\n",
       "      <th>std</th>\n",
       "      <th>min</th>\n",
       "      <th>25%</th>\n",
       "      <th>50%</th>\n",
       "      <th>75%</th>\n",
       "      <th>max</th>\n",
       "    </tr>\n",
       "  </thead>\n",
       "  <tbody>\n",
       "    <tr>\n",
       "      <th>child_mort</th>\n",
       "      <td>167.0</td>\n",
       "      <td>38.270060</td>\n",
       "      <td>40.328931</td>\n",
       "      <td>2.6000</td>\n",
       "      <td>8.250</td>\n",
       "      <td>19.30</td>\n",
       "      <td>62.10</td>\n",
       "      <td>208.00</td>\n",
       "    </tr>\n",
       "    <tr>\n",
       "      <th>exports</th>\n",
       "      <td>167.0</td>\n",
       "      <td>41.108976</td>\n",
       "      <td>27.412010</td>\n",
       "      <td>0.1090</td>\n",
       "      <td>23.800</td>\n",
       "      <td>35.00</td>\n",
       "      <td>51.35</td>\n",
       "      <td>200.00</td>\n",
       "    </tr>\n",
       "    <tr>\n",
       "      <th>health</th>\n",
       "      <td>167.0</td>\n",
       "      <td>6.815689</td>\n",
       "      <td>2.746837</td>\n",
       "      <td>1.8100</td>\n",
       "      <td>4.920</td>\n",
       "      <td>6.32</td>\n",
       "      <td>8.60</td>\n",
       "      <td>17.90</td>\n",
       "    </tr>\n",
       "    <tr>\n",
       "      <th>imports</th>\n",
       "      <td>167.0</td>\n",
       "      <td>46.890215</td>\n",
       "      <td>24.209589</td>\n",
       "      <td>0.0659</td>\n",
       "      <td>30.200</td>\n",
       "      <td>43.30</td>\n",
       "      <td>58.75</td>\n",
       "      <td>174.00</td>\n",
       "    </tr>\n",
       "    <tr>\n",
       "      <th>income</th>\n",
       "      <td>167.0</td>\n",
       "      <td>17144.688623</td>\n",
       "      <td>19278.067698</td>\n",
       "      <td>609.0000</td>\n",
       "      <td>3355.000</td>\n",
       "      <td>9960.00</td>\n",
       "      <td>22800.00</td>\n",
       "      <td>125000.00</td>\n",
       "    </tr>\n",
       "    <tr>\n",
       "      <th>inflation</th>\n",
       "      <td>167.0</td>\n",
       "      <td>7.781832</td>\n",
       "      <td>10.570704</td>\n",
       "      <td>-4.2100</td>\n",
       "      <td>1.810</td>\n",
       "      <td>5.39</td>\n",
       "      <td>10.75</td>\n",
       "      <td>104.00</td>\n",
       "    </tr>\n",
       "    <tr>\n",
       "      <th>life_expec</th>\n",
       "      <td>167.0</td>\n",
       "      <td>70.555689</td>\n",
       "      <td>8.893172</td>\n",
       "      <td>32.1000</td>\n",
       "      <td>65.300</td>\n",
       "      <td>73.10</td>\n",
       "      <td>76.80</td>\n",
       "      <td>82.80</td>\n",
       "    </tr>\n",
       "    <tr>\n",
       "      <th>total_fer</th>\n",
       "      <td>167.0</td>\n",
       "      <td>2.947964</td>\n",
       "      <td>1.513848</td>\n",
       "      <td>1.1500</td>\n",
       "      <td>1.795</td>\n",
       "      <td>2.41</td>\n",
       "      <td>3.88</td>\n",
       "      <td>7.49</td>\n",
       "    </tr>\n",
       "    <tr>\n",
       "      <th>gdpp</th>\n",
       "      <td>167.0</td>\n",
       "      <td>12964.155689</td>\n",
       "      <td>18328.704809</td>\n",
       "      <td>231.0000</td>\n",
       "      <td>1330.000</td>\n",
       "      <td>4660.00</td>\n",
       "      <td>14050.00</td>\n",
       "      <td>105000.00</td>\n",
       "    </tr>\n",
       "  </tbody>\n",
       "</table>\n",
       "</div>"
      ],
      "text/plain": [
       "            count          mean           std       min       25%      50%  \\\n",
       "child_mort  167.0     38.270060     40.328931    2.6000     8.250    19.30   \n",
       "exports     167.0     41.108976     27.412010    0.1090    23.800    35.00   \n",
       "health      167.0      6.815689      2.746837    1.8100     4.920     6.32   \n",
       "imports     167.0     46.890215     24.209589    0.0659    30.200    43.30   \n",
       "income      167.0  17144.688623  19278.067698  609.0000  3355.000  9960.00   \n",
       "inflation   167.0      7.781832     10.570704   -4.2100     1.810     5.39   \n",
       "life_expec  167.0     70.555689      8.893172   32.1000    65.300    73.10   \n",
       "total_fer   167.0      2.947964      1.513848    1.1500     1.795     2.41   \n",
       "gdpp        167.0  12964.155689  18328.704809  231.0000  1330.000  4660.00   \n",
       "\n",
       "                 75%        max  \n",
       "child_mort     62.10     208.00  \n",
       "exports        51.35     200.00  \n",
       "health          8.60      17.90  \n",
       "imports        58.75     174.00  \n",
       "income      22800.00  125000.00  \n",
       "inflation      10.75     104.00  \n",
       "life_expec     76.80      82.80  \n",
       "total_fer       3.88       7.49  \n",
       "gdpp        14050.00  105000.00  "
      ]
     },
     "execution_count": 6,
     "metadata": {},
     "output_type": "execute_result"
    }
   ],
   "source": [
    "data.describe().T"
   ]
  },
  {
   "cell_type": "markdown",
   "metadata": {
    "id": "FOa6-ID-lfvy"
   },
   "source": [
    "**Observations:**\n",
    "\n",
    "- The child mortality rate has a high range from 2.6 to 208 deaths per 1000 live births. The average child mortality rate is approx 38 deaths per 1000 live births.\n",
    "- Similarly, the exports and imports have a high range of values. The maximum values for exports and imports are 200% and 174% of GDP respectively. This can happen if a country's export or import industry exceeds its domestic economy.\n",
    "- The total spend on health is very less in comparison to exports and imports for the majority of countries. The average spending on health is approx 6.8% of GDP.\n",
    "- The average life expectancy is approx 70 years but the minimum value is just 32 years.\n",
    "- Other variables like gdpp, inflation, and income also show a high variability which can be expected as they can be very different for different countries.\n",
    "- Overall, % expenditure on health and average life expectancy seem to have a lesser standard deviation, which reflects less variability across countries. All other variables seem to have a very high spread across countries. These are the variables that might help us identify the clusters if they exist."
   ]
  },
  {
   "cell_type": "markdown",
   "metadata": {
    "id": "eqdrlsWOlfvy"
   },
   "source": [
    "### **Let's check the distribution and outliers for each column in the data**"
   ]
  },
  {
   "cell_type": "markdown",
   "metadata": {
    "id": "TOHYHdrwSi21"
   },
   "source": [
    "## **Scaling the data**"
   ]
  },
  {
   "cell_type": "markdown",
   "metadata": {
    "id": "DVeXml96lEer"
   },
   "source": [
    "- Clustering algorithms are distance-based algorithms, and all distance-based algorithms are affected by the scale of the variables. Therefore, we will scale the data before applying clustering.\n",
    "- We will drop the variables `'country'` variable because it is unique for each country and would not add value to clustering. \n",
    "- We will also drop the `'gdpp'` variable for now, because we want to see if we can identify clusters of countries without relying on GDP and see later if these clusters correspond to an average GDP value for the countries in each cluster.  "
   ]
  },
  {
   "cell_type": "code",
   "execution_count": 7,
   "metadata": {
    "executionInfo": {
     "elapsed": 429,
     "status": "ok",
     "timestamp": 1673105697599,
     "user": {
      "displayName": "Abhinav Harsh",
      "userId": "08825161285052345463"
     },
     "user_tz": -330
    },
    "id": "U2x8-0fAlfv0"
   },
   "outputs": [],
   "source": [
    "data_new = data.drop(columns = [\"country\", \"gdpp\"])"
   ]
  },
  {
   "cell_type": "code",
   "execution_count": 8,
   "metadata": {
    "colab": {
     "base_uri": "https://localhost:8080/",
     "height": 424
    },
    "executionInfo": {
     "elapsed": 630,
     "status": "ok",
     "timestamp": 1673105712112,
     "user": {
      "displayName": "Abhinav Harsh",
      "userId": "08825161285052345463"
     },
     "user_tz": -330
    },
    "id": "0Moqixj21jsv",
    "outputId": "32f7a3d9-c92d-4f14-87fd-940e655dc9a0"
   },
   "outputs": [
    {
     "data": {
      "text/html": [
       "<div>\n",
       "<style scoped>\n",
       "    .dataframe tbody tr th:only-of-type {\n",
       "        vertical-align: middle;\n",
       "    }\n",
       "\n",
       "    .dataframe tbody tr th {\n",
       "        vertical-align: top;\n",
       "    }\n",
       "\n",
       "    .dataframe thead th {\n",
       "        text-align: right;\n",
       "    }\n",
       "</style>\n",
       "<table border=\"1\" class=\"dataframe\">\n",
       "  <thead>\n",
       "    <tr style=\"text-align: right;\">\n",
       "      <th></th>\n",
       "      <th>child_mort</th>\n",
       "      <th>exports</th>\n",
       "      <th>health</th>\n",
       "      <th>imports</th>\n",
       "      <th>income</th>\n",
       "      <th>inflation</th>\n",
       "      <th>life_expec</th>\n",
       "      <th>total_fer</th>\n",
       "    </tr>\n",
       "  </thead>\n",
       "  <tbody>\n",
       "    <tr>\n",
       "      <th>0</th>\n",
       "      <td>90.2</td>\n",
       "      <td>10.0</td>\n",
       "      <td>7.58</td>\n",
       "      <td>44.9</td>\n",
       "      <td>1610</td>\n",
       "      <td>9.44</td>\n",
       "      <td>56.2</td>\n",
       "      <td>5.82</td>\n",
       "    </tr>\n",
       "    <tr>\n",
       "      <th>1</th>\n",
       "      <td>16.6</td>\n",
       "      <td>28.0</td>\n",
       "      <td>6.55</td>\n",
       "      <td>48.6</td>\n",
       "      <td>9930</td>\n",
       "      <td>4.49</td>\n",
       "      <td>76.3</td>\n",
       "      <td>1.65</td>\n",
       "    </tr>\n",
       "    <tr>\n",
       "      <th>2</th>\n",
       "      <td>27.3</td>\n",
       "      <td>38.4</td>\n",
       "      <td>4.17</td>\n",
       "      <td>31.4</td>\n",
       "      <td>12900</td>\n",
       "      <td>16.10</td>\n",
       "      <td>76.5</td>\n",
       "      <td>2.89</td>\n",
       "    </tr>\n",
       "    <tr>\n",
       "      <th>3</th>\n",
       "      <td>119.0</td>\n",
       "      <td>62.3</td>\n",
       "      <td>2.85</td>\n",
       "      <td>42.9</td>\n",
       "      <td>5900</td>\n",
       "      <td>22.40</td>\n",
       "      <td>60.1</td>\n",
       "      <td>6.16</td>\n",
       "    </tr>\n",
       "    <tr>\n",
       "      <th>4</th>\n",
       "      <td>10.3</td>\n",
       "      <td>45.5</td>\n",
       "      <td>6.03</td>\n",
       "      <td>58.9</td>\n",
       "      <td>19100</td>\n",
       "      <td>1.44</td>\n",
       "      <td>76.8</td>\n",
       "      <td>2.13</td>\n",
       "    </tr>\n",
       "    <tr>\n",
       "      <th>...</th>\n",
       "      <td>...</td>\n",
       "      <td>...</td>\n",
       "      <td>...</td>\n",
       "      <td>...</td>\n",
       "      <td>...</td>\n",
       "      <td>...</td>\n",
       "      <td>...</td>\n",
       "      <td>...</td>\n",
       "    </tr>\n",
       "    <tr>\n",
       "      <th>162</th>\n",
       "      <td>29.2</td>\n",
       "      <td>46.6</td>\n",
       "      <td>5.25</td>\n",
       "      <td>52.7</td>\n",
       "      <td>2950</td>\n",
       "      <td>2.62</td>\n",
       "      <td>63.0</td>\n",
       "      <td>3.50</td>\n",
       "    </tr>\n",
       "    <tr>\n",
       "      <th>163</th>\n",
       "      <td>17.1</td>\n",
       "      <td>28.5</td>\n",
       "      <td>4.91</td>\n",
       "      <td>17.6</td>\n",
       "      <td>16500</td>\n",
       "      <td>45.90</td>\n",
       "      <td>75.4</td>\n",
       "      <td>2.47</td>\n",
       "    </tr>\n",
       "    <tr>\n",
       "      <th>164</th>\n",
       "      <td>23.3</td>\n",
       "      <td>72.0</td>\n",
       "      <td>6.84</td>\n",
       "      <td>80.2</td>\n",
       "      <td>4490</td>\n",
       "      <td>12.10</td>\n",
       "      <td>73.1</td>\n",
       "      <td>1.95</td>\n",
       "    </tr>\n",
       "    <tr>\n",
       "      <th>165</th>\n",
       "      <td>56.3</td>\n",
       "      <td>30.0</td>\n",
       "      <td>5.18</td>\n",
       "      <td>34.4</td>\n",
       "      <td>4480</td>\n",
       "      <td>23.60</td>\n",
       "      <td>67.5</td>\n",
       "      <td>4.67</td>\n",
       "    </tr>\n",
       "    <tr>\n",
       "      <th>166</th>\n",
       "      <td>83.1</td>\n",
       "      <td>37.0</td>\n",
       "      <td>5.89</td>\n",
       "      <td>30.9</td>\n",
       "      <td>3280</td>\n",
       "      <td>14.00</td>\n",
       "      <td>52.0</td>\n",
       "      <td>5.40</td>\n",
       "    </tr>\n",
       "  </tbody>\n",
       "</table>\n",
       "<p>167 rows × 8 columns</p>\n",
       "</div>"
      ],
      "text/plain": [
       "     child_mort  exports  health  imports  income  inflation  life_expec  \\\n",
       "0          90.2     10.0    7.58     44.9    1610       9.44        56.2   \n",
       "1          16.6     28.0    6.55     48.6    9930       4.49        76.3   \n",
       "2          27.3     38.4    4.17     31.4   12900      16.10        76.5   \n",
       "3         119.0     62.3    2.85     42.9    5900      22.40        60.1   \n",
       "4          10.3     45.5    6.03     58.9   19100       1.44        76.8   \n",
       "..          ...      ...     ...      ...     ...        ...         ...   \n",
       "162        29.2     46.6    5.25     52.7    2950       2.62        63.0   \n",
       "163        17.1     28.5    4.91     17.6   16500      45.90        75.4   \n",
       "164        23.3     72.0    6.84     80.2    4490      12.10        73.1   \n",
       "165        56.3     30.0    5.18     34.4    4480      23.60        67.5   \n",
       "166        83.1     37.0    5.89     30.9    3280      14.00        52.0   \n",
       "\n",
       "     total_fer  \n",
       "0         5.82  \n",
       "1         1.65  \n",
       "2         2.89  \n",
       "3         6.16  \n",
       "4         2.13  \n",
       "..         ...  \n",
       "162       3.50  \n",
       "163       2.47  \n",
       "164       1.95  \n",
       "165       4.67  \n",
       "166       5.40  \n",
       "\n",
       "[167 rows x 8 columns]"
      ]
     },
     "execution_count": 8,
     "metadata": {},
     "output_type": "execute_result"
    }
   ],
   "source": [
    "data_new"
   ]
  },
  {
   "cell_type": "code",
   "execution_count": 9,
   "metadata": {
    "colab": {
     "base_uri": "https://localhost:8080/",
     "height": 206
    },
    "executionInfo": {
     "elapsed": 399,
     "status": "ok",
     "timestamp": 1673105725402,
     "user": {
      "displayName": "Abhinav Harsh",
      "userId": "08825161285052345463"
     },
     "user_tz": -330
    },
    "id": "QJZO4RpPlfv0",
    "outputId": "6c3f9138-1409-4220-9a11-3d2e189822ec"
   },
   "outputs": [],
   "source": [
    "# Scaling the data and storing the output as a new DataFrame\n",
    "\n",
    "scaler = StandardScaler()\n",
    "\n",
    "data_scaled = pd.DataFrame(scaler.fit_transform(data_new), columns = data_new.columns)\n"
   ]
  },
  {
   "cell_type": "code",
   "execution_count": 10,
   "metadata": {
    "colab": {
     "base_uri": "https://localhost:8080/",
     "height": 300
    },
    "executionInfo": {
     "elapsed": 14,
     "status": "ok",
     "timestamp": 1673105824436,
     "user": {
      "displayName": "Abhinav Harsh",
      "userId": "08825161285052345463"
     },
     "user_tz": -330
    },
    "id": "LXcmw_744FJP",
    "outputId": "dd3ee722-6a1b-4e35-81a5-c153970bd716"
   },
   "outputs": [
    {
     "data": {
      "text/html": [
       "<div>\n",
       "<style scoped>\n",
       "    .dataframe tbody tr th:only-of-type {\n",
       "        vertical-align: middle;\n",
       "    }\n",
       "\n",
       "    .dataframe tbody tr th {\n",
       "        vertical-align: top;\n",
       "    }\n",
       "\n",
       "    .dataframe thead th {\n",
       "        text-align: right;\n",
       "    }\n",
       "</style>\n",
       "<table border=\"1\" class=\"dataframe\">\n",
       "  <thead>\n",
       "    <tr style=\"text-align: right;\">\n",
       "      <th></th>\n",
       "      <th>count</th>\n",
       "      <th>mean</th>\n",
       "      <th>std</th>\n",
       "      <th>min</th>\n",
       "      <th>25%</th>\n",
       "      <th>50%</th>\n",
       "      <th>75%</th>\n",
       "      <th>max</th>\n",
       "    </tr>\n",
       "  </thead>\n",
       "  <tbody>\n",
       "    <tr>\n",
       "      <th>child_mort</th>\n",
       "      <td>167.0</td>\n",
       "      <td>-2.659217e-17</td>\n",
       "      <td>1.003008</td>\n",
       "      <td>-0.887138</td>\n",
       "      <td>-0.746619</td>\n",
       "      <td>-0.471798</td>\n",
       "      <td>0.592667</td>\n",
       "      <td>4.221297</td>\n",
       "    </tr>\n",
       "    <tr>\n",
       "      <th>exports</th>\n",
       "      <td>167.0</td>\n",
       "      <td>2.383323e-16</td>\n",
       "      <td>1.003008</td>\n",
       "      <td>-1.500192</td>\n",
       "      <td>-0.633337</td>\n",
       "      <td>-0.223528</td>\n",
       "      <td>0.374720</td>\n",
       "      <td>5.813835</td>\n",
       "    </tr>\n",
       "    <tr>\n",
       "      <th>health</th>\n",
       "      <td>167.0</td>\n",
       "      <td>5.218713e-16</td>\n",
       "      <td>1.003008</td>\n",
       "      <td>-1.827827</td>\n",
       "      <td>-0.692211</td>\n",
       "      <td>-0.181001</td>\n",
       "      <td>0.651541</td>\n",
       "      <td>4.047436</td>\n",
       "    </tr>\n",
       "    <tr>\n",
       "      <th>imports</th>\n",
       "      <td>167.0</td>\n",
       "      <td>2.871954e-16</td>\n",
       "      <td>1.003008</td>\n",
       "      <td>-1.939940</td>\n",
       "      <td>-0.691479</td>\n",
       "      <td>-0.148743</td>\n",
       "      <td>0.491353</td>\n",
       "      <td>5.266181</td>\n",
       "    </tr>\n",
       "    <tr>\n",
       "      <th>income</th>\n",
       "      <td>167.0</td>\n",
       "      <td>-7.512288e-17</td>\n",
       "      <td>1.003008</td>\n",
       "      <td>-0.860326</td>\n",
       "      <td>-0.717456</td>\n",
       "      <td>-0.373808</td>\n",
       "      <td>0.294237</td>\n",
       "      <td>5.611542</td>\n",
       "    </tr>\n",
       "    <tr>\n",
       "      <th>inflation</th>\n",
       "      <td>167.0</td>\n",
       "      <td>3.988825e-18</td>\n",
       "      <td>1.003008</td>\n",
       "      <td>-1.137852</td>\n",
       "      <td>-0.566641</td>\n",
       "      <td>-0.226950</td>\n",
       "      <td>0.281636</td>\n",
       "      <td>9.129718</td>\n",
       "    </tr>\n",
       "    <tr>\n",
       "      <th>life_expec</th>\n",
       "      <td>167.0</td>\n",
       "      <td>3.616535e-16</td>\n",
       "      <td>1.003008</td>\n",
       "      <td>-4.337186</td>\n",
       "      <td>-0.592758</td>\n",
       "      <td>0.286958</td>\n",
       "      <td>0.704258</td>\n",
       "      <td>1.380962</td>\n",
       "    </tr>\n",
       "    <tr>\n",
       "      <th>total_fer</th>\n",
       "      <td>167.0</td>\n",
       "      <td>3.124580e-16</td>\n",
       "      <td>1.003008</td>\n",
       "      <td>-1.191250</td>\n",
       "      <td>-0.763902</td>\n",
       "      <td>-0.356431</td>\n",
       "      <td>0.617525</td>\n",
       "      <td>3.009349</td>\n",
       "    </tr>\n",
       "  </tbody>\n",
       "</table>\n",
       "</div>"
      ],
      "text/plain": [
       "            count          mean       std       min       25%       50%  \\\n",
       "child_mort  167.0 -2.659217e-17  1.003008 -0.887138 -0.746619 -0.471798   \n",
       "exports     167.0  2.383323e-16  1.003008 -1.500192 -0.633337 -0.223528   \n",
       "health      167.0  5.218713e-16  1.003008 -1.827827 -0.692211 -0.181001   \n",
       "imports     167.0  2.871954e-16  1.003008 -1.939940 -0.691479 -0.148743   \n",
       "income      167.0 -7.512288e-17  1.003008 -0.860326 -0.717456 -0.373808   \n",
       "inflation   167.0  3.988825e-18  1.003008 -1.137852 -0.566641 -0.226950   \n",
       "life_expec  167.0  3.616535e-16  1.003008 -4.337186 -0.592758  0.286958   \n",
       "total_fer   167.0  3.124580e-16  1.003008 -1.191250 -0.763902 -0.356431   \n",
       "\n",
       "                 75%       max  \n",
       "child_mort  0.592667  4.221297  \n",
       "exports     0.374720  5.813835  \n",
       "health      0.651541  4.047436  \n",
       "imports     0.491353  5.266181  \n",
       "income      0.294237  5.611542  \n",
       "inflation   0.281636  9.129718  \n",
       "life_expec  0.704258  1.380962  \n",
       "total_fer   0.617525  3.009349  "
      ]
     },
     "execution_count": 10,
     "metadata": {},
     "output_type": "execute_result"
    }
   ],
   "source": [
    "\n",
    "data_scaled.describe().T"
   ]
  },
  {
   "cell_type": "code",
   "execution_count": 11,
   "metadata": {
    "executionInfo": {
     "elapsed": 404,
     "status": "ok",
     "timestamp": 1673106069494,
     "user": {
      "displayName": "Abhinav Harsh",
      "userId": "08825161285052345463"
     },
     "user_tz": -330
    },
    "id": "j3KcNzLplfv1"
   },
   "outputs": [],
   "source": [
    "# Creating copy of the data to store labels from each algorithm\n",
    "data_scaled_copy = data_scaled.copy(deep = True)"
   ]
  },
  {
   "cell_type": "markdown",
   "metadata": {
    "id": "WZ8_Nd8mSqDB"
   },
   "source": [
    "## **K-Means Clustering**"
   ]
  },
  {
   "cell_type": "code",
   "execution_count": 12,
   "metadata": {
    "colab": {
     "base_uri": "https://localhost:8080/",
     "height": 279
    },
    "executionInfo": {
     "elapsed": 1561,
     "status": "ok",
     "timestamp": 1673106996773,
     "user": {
      "displayName": "Abhinav Harsh",
      "userId": "08825161285052345463"
     },
     "user_tz": -330
    },
    "id": "0RJFEjSR83C8",
    "outputId": "33526c80-229b-480c-c0b7-a194e0f0cffe"
   },
   "outputs": [
    {
     "data": {
      "image/png": "[encoded data removed]",
      "text/plain": [
       "<Figure size 432x288 with 1 Axes>"
      ]
     },
     "metadata": {
      "needs_background": "light"
     },
     "output_type": "display_data"
    }
   ],
   "source": [
    "# Empty dictionary to store the SSE for each value of K\n",
    "sse = {} \n",
    "\n",
    "# Iterate for a range of Ks and fit the scaled data to the algorithm. \n",
    "# Use inertia attribute from the clustering object and store the inertia value for that K \n",
    "for k in range(1, 10):\n",
    "    kmeans = KMeans(n_clusters = k, random_state = 1).fit(data_scaled)\n",
    "    \n",
    "    sse[k] = kmeans.inertia_\n",
    "    # print(kmeans.inertia_)\n",
    "\n",
    "# Elbow plot\n",
    "plt.figure()\n",
    "\n",
    "plt.plot(list(sse.keys()), list(sse.values()), 'bx-')\n",
    "\n",
    "plt.xlabel(\"Number of cluster\")\n",
    "\n",
    "plt.ylabel(\"SSE\")\n",
    "\n",
    "plt.show()"
   ]
  },
  {
   "cell_type": "markdown",
   "metadata": {
    "id": "Q1fv-33Alfv1"
   },
   "source": [
    "**Observations:**\n",
    "\n",
    "- We can see from the plot that there is a consistent dip from 2 to 8 and there doesn't seem to be a clear 'elbow' here. We may choose any number of clusters from 2 to 8. \n",
    "- So, let's look at another method to get a 'second opinion'. Let's create a plot with Silhouette scores to see how it varies with K."
   ]
  },
  {
   "cell_type": "code",
   "execution_count": 15,
   "metadata": {
    "colab": {
     "base_uri": "https://localhost:8080/",
     "height": 279
    },
    "executionInfo": {
     "elapsed": 3813,
     "status": "ok",
     "timestamp": 1673109851788,
     "user": {
      "displayName": "Abhinav Harsh",
      "userId": "08825161285052345463"
     },
     "user_tz": -330
    },
    "id": "yixqfYF5lfv2",
    "outputId": "e43a9113-80dc-40cf-b02b-f17288d9bd85"
   },
   "outputs": [
    {
     "data": {
      "image/png": "[encoded data removed]",
      "text/plain": [
       "<Figure size 432x288 with 1 Axes>"
      ]
     },
     "metadata": {
      "needs_background": "light"
     },
     "output_type": "display_data"
    }
   ],
   "source": [
    "# Empty dictionary to store the Silhouette score for each value of K\n",
    "sc = {} \n",
    "\n",
    "# Iterate for a range of Ks and fit the scaled data to the algorithm. Store the Silhouette score for that K \n",
    "for k in range(2, 10):\n",
    "    kmeans = KMeans(n_clusters = k, random_state = 1).fit(data_scaled)\n",
    "    \n",
    "    labels = kmeans.predict(data_scaled)\n",
    "    \n",
    "    sc[k] = silhouette_score(data_scaled, labels)\n",
    "\n",
    "# Elbow plot\n",
    "plt.figure()\n",
    "\n",
    "plt.plot(list(sc.keys()), list(sc.values()), 'go-')\n",
    "\n",
    "plt.xlabel(\"Number of cluster\")\n",
    "\n",
    "plt.ylabel(\"Silhouette Score\")\n",
    "\n",
    "plt.show()"
   ]
  },
  {
   "cell_type": "markdown",
   "metadata": {
    "id": "t3rmtgN0LCHr"
   },
   "source": [
    "**Observation:**\n",
    "\n",
    "- We observe from the plot that the silhouette score is the highest for K=3. Let's first understand these 3 clusters."
   ]
  },
  {
   "cell_type": "code",
   "execution_count": 16,
   "metadata": {
    "colab": {
     "base_uri": "https://localhost:8080/"
    },
    "executionInfo": {
     "elapsed": 413,
     "status": "ok",
     "timestamp": 1673110130909,
     "user": {
      "displayName": "Abhinav Harsh",
      "userId": "08825161285052345463"
     },
     "user_tz": -330
    },
    "id": "gku4tpxzIoYd",
    "outputId": "fefbe85e-f487-4aa5-c920-907d5c5ddffa"
   },
   "outputs": [
    {
     "data": {
      "text/plain": [
       "array([8, 0, 6, 1, 7, 6, 6, 2, 2, 6, 2, 7, 6, 7, 0, 7, 0, 1, 0, 6, 2, 0,\n",
       "       6, 5, 7, 1, 8, 0, 1, 2, 0, 1, 1, 2, 6, 6, 1, 1, 1, 2, 1, 2, 7, 7,\n",
       "       2, 6, 6, 6, 0, 1, 1, 7, 0, 2, 2, 1, 1, 0, 2, 1, 2, 0, 6, 1, 8, 0,\n",
       "       8, 7, 2, 6, 6, 6, 6, 7, 2, 2, 6, 2, 0, 6, 1, 8, 5, 0, 1, 7, 7, 8,\n",
       "       8, 7, 7, 3, 7, 1, 1, 7, 7, 1, 3, 1, 7, 8, 0, 6, 7, 0, 1, 6, 0, 6,\n",
       "       2, 2, 1, 4, 2, 5, 1, 7, 0, 6, 6, 2, 2, 5, 6, 6, 8, 0, 5, 1, 2, 7,\n",
       "       8, 3, 7, 7, 0, 8, 7, 2, 6, 0, 1, 0, 2, 2, 0, 1, 7, 1, 8, 0, 7, 6,\n",
       "       0, 8, 0, 5, 2, 2, 2, 6, 0, 6, 7, 1, 1])"
      ]
     },
     "execution_count": 16,
     "metadata": {},
     "output_type": "execute_result"
    }
   ],
   "source": [
    "kmeans.predict(data_scaled)"
   ]
  },
  {
   "cell_type": "code",
   "execution_count": 17,
   "metadata": {
    "executionInfo": {
     "elapsed": 433,
     "status": "ok",
     "timestamp": 1673110081475,
     "user": {
      "displayName": "Abhinav Harsh",
      "userId": "08825161285052345463"
     },
     "user_tz": -330
    },
    "id": "PgqPL7_rqH9S"
   },
   "outputs": [],
   "source": [
    "kmeans = KMeans(n_clusters = 3, random_state = 1)\n",
    "\n",
    "kmeans.fit(data_scaled)\n",
    "\n",
    "# Adding predicted labels to the original data and the scaled data \n",
    "data_scaled_copy['KMeans_Labels'] = kmeans.predict(data_scaled)\n",
    "\n",
    "data['KMeans_Labels'] = kmeans.predict(data_scaled)"
   ]
  },
  {
   "cell_type": "code",
   "execution_count": 35,
   "metadata": {
    "colab": {
     "base_uri": "https://localhost:8080/",
     "height": 676
    },
    "executionInfo": {
     "elapsed": 433,
     "status": "ok",
     "timestamp": 1673110161938,
     "user": {
      "displayName": "Abhinav Harsh",
      "userId": "08825161285052345463"
     },
     "user_tz": -330
    },
    "id": "IEvWAg9t3ugb",
    "outputId": "ea3210b5-cbbb-4218-87ab-738d826d5756"
   },
   "outputs": [
    {
     "data": {
      "text/html": [
       "\n",
       "  <div id=\"df-d80428d9-1cee-4387-b795-a6747e6ef062\">\n",
       "    <div class=\"colab-df-container\">\n",
       "      <div>\n",
       "<style scoped>\n",
       "    .dataframe tbody tr th:only-of-type {\n",
       "        vertical-align: middle;\n",
       "    }\n",
       "\n",
       "    .dataframe tbody tr th {\n",
       "        vertical-align: top;\n",
       "    }\n",
       "\n",
       "    .dataframe thead th {\n",
       "        text-align: right;\n",
       "    }\n",
       "</style>\n",
       "<table border=\"1\" class=\"dataframe\">\n",
       "  <thead>\n",
       "    <tr style=\"text-align: right;\">\n",
       "      <th></th>\n",
       "      <th>country</th>\n",
       "      <th>child_mort</th>\n",
       "      <th>exports</th>\n",
       "      <th>health</th>\n",
       "      <th>imports</th>\n",
       "      <th>income</th>\n",
       "      <th>inflation</th>\n",
       "      <th>life_expec</th>\n",
       "      <th>total_fer</th>\n",
       "      <th>gdpp</th>\n",
       "      <th>KMeans_Labels</th>\n",
       "    </tr>\n",
       "  </thead>\n",
       "  <tbody>\n",
       "    <tr>\n",
       "      <th>0</th>\n",
       "      <td>Afghanistan</td>\n",
       "      <td>90.2</td>\n",
       "      <td>10.0</td>\n",
       "      <td>7.58</td>\n",
       "      <td>44.9</td>\n",
       "      <td>1610</td>\n",
       "      <td>9.440</td>\n",
       "      <td>56.2</td>\n",
       "      <td>5.82</td>\n",
       "      <td>553</td>\n",
       "      <td>1</td>\n",
       "    </tr>\n",
       "    <tr>\n",
       "      <th>1</th>\n",
       "      <td>Albania</td>\n",
       "      <td>16.6</td>\n",
       "      <td>28.0</td>\n",
       "      <td>6.55</td>\n",
       "      <td>48.6</td>\n",
       "      <td>9930</td>\n",
       "      <td>4.490</td>\n",
       "      <td>76.3</td>\n",
       "      <td>1.65</td>\n",
       "      <td>4090</td>\n",
       "      <td>0</td>\n",
       "    </tr>\n",
       "    <tr>\n",
       "      <th>2</th>\n",
       "      <td>Algeria</td>\n",
       "      <td>27.3</td>\n",
       "      <td>38.4</td>\n",
       "      <td>4.17</td>\n",
       "      <td>31.4</td>\n",
       "      <td>12900</td>\n",
       "      <td>16.100</td>\n",
       "      <td>76.5</td>\n",
       "      <td>2.89</td>\n",
       "      <td>4460</td>\n",
       "      <td>0</td>\n",
       "    </tr>\n",
       "    <tr>\n",
       "      <th>3</th>\n",
       "      <td>Angola</td>\n",
       "      <td>119.0</td>\n",
       "      <td>62.3</td>\n",
       "      <td>2.85</td>\n",
       "      <td>42.9</td>\n",
       "      <td>5900</td>\n",
       "      <td>22.400</td>\n",
       "      <td>60.1</td>\n",
       "      <td>6.16</td>\n",
       "      <td>3530</td>\n",
       "      <td>1</td>\n",
       "    </tr>\n",
       "    <tr>\n",
       "      <th>4</th>\n",
       "      <td>Antigua and Barbuda</td>\n",
       "      <td>10.3</td>\n",
       "      <td>45.5</td>\n",
       "      <td>6.03</td>\n",
       "      <td>58.9</td>\n",
       "      <td>19100</td>\n",
       "      <td>1.440</td>\n",
       "      <td>76.8</td>\n",
       "      <td>2.13</td>\n",
       "      <td>12200</td>\n",
       "      <td>0</td>\n",
       "    </tr>\n",
       "    <tr>\n",
       "      <th>5</th>\n",
       "      <td>Argentina</td>\n",
       "      <td>14.5</td>\n",
       "      <td>18.9</td>\n",
       "      <td>8.10</td>\n",
       "      <td>16.0</td>\n",
       "      <td>18700</td>\n",
       "      <td>20.900</td>\n",
       "      <td>75.8</td>\n",
       "      <td>2.37</td>\n",
       "      <td>10300</td>\n",
       "      <td>0</td>\n",
       "    </tr>\n",
       "    <tr>\n",
       "      <th>6</th>\n",
       "      <td>Armenia</td>\n",
       "      <td>18.1</td>\n",
       "      <td>20.8</td>\n",
       "      <td>4.40</td>\n",
       "      <td>45.3</td>\n",
       "      <td>6700</td>\n",
       "      <td>7.770</td>\n",
       "      <td>73.3</td>\n",
       "      <td>1.69</td>\n",
       "      <td>3220</td>\n",
       "      <td>0</td>\n",
       "    </tr>\n",
       "    <tr>\n",
       "      <th>7</th>\n",
       "      <td>Australia</td>\n",
       "      <td>4.8</td>\n",
       "      <td>19.8</td>\n",
       "      <td>8.73</td>\n",
       "      <td>20.9</td>\n",
       "      <td>41400</td>\n",
       "      <td>1.160</td>\n",
       "      <td>82.0</td>\n",
       "      <td>1.93</td>\n",
       "      <td>51900</td>\n",
       "      <td>0</td>\n",
       "    </tr>\n",
       "    <tr>\n",
       "      <th>8</th>\n",
       "      <td>Austria</td>\n",
       "      <td>4.3</td>\n",
       "      <td>51.3</td>\n",
       "      <td>11.00</td>\n",
       "      <td>47.8</td>\n",
       "      <td>43200</td>\n",
       "      <td>0.873</td>\n",
       "      <td>80.5</td>\n",
       "      <td>1.44</td>\n",
       "      <td>46900</td>\n",
       "      <td>0</td>\n",
       "    </tr>\n",
       "    <tr>\n",
       "      <th>9</th>\n",
       "      <td>Azerbaijan</td>\n",
       "      <td>39.2</td>\n",
       "      <td>54.3</td>\n",
       "      <td>5.88</td>\n",
       "      <td>20.7</td>\n",
       "      <td>16000</td>\n",
       "      <td>13.800</td>\n",
       "      <td>69.1</td>\n",
       "      <td>1.92</td>\n",
       "      <td>5840</td>\n",
       "      <td>0</td>\n",
       "    </tr>\n",
       "    <tr>\n",
       "      <th>10</th>\n",
       "      <td>Bahamas</td>\n",
       "      <td>13.8</td>\n",
       "      <td>35.0</td>\n",
       "      <td>7.89</td>\n",
       "      <td>43.7</td>\n",
       "      <td>22900</td>\n",
       "      <td>-0.393</td>\n",
       "      <td>73.8</td>\n",
       "      <td>1.86</td>\n",
       "      <td>28000</td>\n",
       "      <td>0</td>\n",
       "    </tr>\n",
       "    <tr>\n",
       "      <th>11</th>\n",
       "      <td>Bahrain</td>\n",
       "      <td>8.6</td>\n",
       "      <td>69.5</td>\n",
       "      <td>4.97</td>\n",
       "      <td>50.9</td>\n",
       "      <td>41100</td>\n",
       "      <td>7.440</td>\n",
       "      <td>76.0</td>\n",
       "      <td>2.16</td>\n",
       "      <td>20700</td>\n",
       "      <td>0</td>\n",
       "    </tr>\n",
       "    <tr>\n",
       "      <th>12</th>\n",
       "      <td>Bangladesh</td>\n",
       "      <td>49.4</td>\n",
       "      <td>16.0</td>\n",
       "      <td>3.52</td>\n",
       "      <td>21.8</td>\n",
       "      <td>2440</td>\n",
       "      <td>7.140</td>\n",
       "      <td>70.4</td>\n",
       "      <td>2.33</td>\n",
       "      <td>758</td>\n",
       "      <td>0</td>\n",
       "    </tr>\n",
       "    <tr>\n",
       "      <th>13</th>\n",
       "      <td>Barbados</td>\n",
       "      <td>14.2</td>\n",
       "      <td>39.5</td>\n",
       "      <td>7.97</td>\n",
       "      <td>48.7</td>\n",
       "      <td>15300</td>\n",
       "      <td>0.321</td>\n",
       "      <td>76.7</td>\n",
       "      <td>1.78</td>\n",
       "      <td>16000</td>\n",
       "      <td>0</td>\n",
       "    </tr>\n",
       "    <tr>\n",
       "      <th>14</th>\n",
       "      <td>Belarus</td>\n",
       "      <td>5.5</td>\n",
       "      <td>51.4</td>\n",
       "      <td>5.61</td>\n",
       "      <td>64.5</td>\n",
       "      <td>16200</td>\n",
       "      <td>15.100</td>\n",
       "      <td>70.4</td>\n",
       "      <td>1.49</td>\n",
       "      <td>6030</td>\n",
       "      <td>0</td>\n",
       "    </tr>\n",
       "    <tr>\n",
       "      <th>15</th>\n",
       "      <td>Belgium</td>\n",
       "      <td>4.5</td>\n",
       "      <td>76.4</td>\n",
       "      <td>10.70</td>\n",
       "      <td>74.7</td>\n",
       "      <td>41100</td>\n",
       "      <td>1.880</td>\n",
       "      <td>80.0</td>\n",
       "      <td>1.86</td>\n",
       "      <td>44400</td>\n",
       "      <td>0</td>\n",
       "    </tr>\n",
       "    <tr>\n",
       "      <th>16</th>\n",
       "      <td>Belize</td>\n",
       "      <td>18.8</td>\n",
       "      <td>58.2</td>\n",
       "      <td>5.20</td>\n",
       "      <td>57.5</td>\n",
       "      <td>7880</td>\n",
       "      <td>1.140</td>\n",
       "      <td>71.4</td>\n",
       "      <td>2.71</td>\n",
       "      <td>4340</td>\n",
       "      <td>0</td>\n",
       "    </tr>\n",
       "    <tr>\n",
       "      <th>17</th>\n",
       "      <td>Benin</td>\n",
       "      <td>111.0</td>\n",
       "      <td>23.8</td>\n",
       "      <td>4.10</td>\n",
       "      <td>37.2</td>\n",
       "      <td>1820</td>\n",
       "      <td>0.885</td>\n",
       "      <td>61.8</td>\n",
       "      <td>5.36</td>\n",
       "      <td>758</td>\n",
       "      <td>1</td>\n",
       "    </tr>\n",
       "    <tr>\n",
       "      <th>18</th>\n",
       "      <td>Bhutan</td>\n",
       "      <td>42.7</td>\n",
       "      <td>42.5</td>\n",
       "      <td>5.20</td>\n",
       "      <td>70.7</td>\n",
       "      <td>6420</td>\n",
       "      <td>5.990</td>\n",
       "      <td>72.1</td>\n",
       "      <td>2.38</td>\n",
       "      <td>2180</td>\n",
       "      <td>0</td>\n",
       "    </tr>\n",
       "    <tr>\n",
       "      <th>19</th>\n",
       "      <td>Bolivia</td>\n",
       "      <td>46.6</td>\n",
       "      <td>41.2</td>\n",
       "      <td>4.84</td>\n",
       "      <td>34.3</td>\n",
       "      <td>5410</td>\n",
       "      <td>8.780</td>\n",
       "      <td>71.6</td>\n",
       "      <td>3.20</td>\n",
       "      <td>1980</td>\n",
       "      <td>0</td>\n",
       "    </tr>\n",
       "  </tbody>\n",
       "</table>\n",
       "</div>\n",
       "      <button class=\"colab-df-convert\" onclick=\"convertToInteractive('df-d80428d9-1cee-4387-b795-a6747e6ef062')\"\n",
       "              title=\"Convert this dataframe to an interactive table.\"\n",
       "              style=\"display:none;\">\n",
       "        \n",
       "  <svg xmlns=\"http://www.w3.org/2000/svg\" height=\"24px\"viewBox=\"0 0 24 24\"\n",
       "       width=\"24px\">\n",
       "    <path d=\"M0 0h24v24H0V0z\" fill=\"none\"/>\n",
       "    <path d=\"M18.56 5.44l.94 2.06.94-2.06 2.06-.94-2.06-.94-.94-2.06-.94 2.06-2.06.94zm-11 1L8.5 8.5l.94-2.06 2.06-.94-2.06-.94L8.5 2.5l-.94 2.06-2.06.94zm10 10l.94 2.06.94-2.06 2.06-.94-2.06-.94-.94-2.06-.94 2.06-2.06.94z\"/><path d=\"M17.41 7.96l-1.37-1.37c-.4-.4-.92-.59-1.43-.59-.52 0-1.04.2-1.43.59L10.3 9.45l-7.72 7.72c-.78.78-.78 2.05 0 2.83L4 21.41c.39.39.9.59 1.41.59.51 0 1.02-.2 1.41-.59l7.78-7.78 2.81-2.81c.8-.78.8-2.07 0-2.86zM5.41 20L4 18.59l7.72-7.72 1.47 1.35L5.41 20z\"/>\n",
       "  </svg>\n",
       "      </button>\n",
       "      \n",
       "  <style>\n",
       "    .colab-df-container {\n",
       "      display:flex;\n",
       "      flex-wrap:wrap;\n",
       "      gap: 12px;\n",
       "    }\n",
       "\n",
       "    .colab-df-convert {\n",
       "      background-color: #E8F0FE;\n",
       "      border: none;\n",
       "      border-radius: 50%;\n",
       "      cursor: pointer;\n",
       "      display: none;\n",
       "      fill: #1967D2;\n",
       "      height: 32px;\n",
       "      padding: 0 0 0 0;\n",
       "      width: 32px;\n",
       "    }\n",
       "\n",
       "    .colab-df-convert:hover {\n",
       "      background-color: #E2EBFA;\n",
       "      box-shadow: 0px 1px 2px rgba(60, 64, 67, 0.3), 0px 1px 3px 1px rgba(60, 64, 67, 0.15);\n",
       "      fill: #174EA6;\n",
       "    }\n",
       "\n",
       "    [theme=dark] .colab-df-convert {\n",
       "      background-color: #3B4455;\n",
       "      fill: #D2E3FC;\n",
       "    }\n",
       "\n",
       "    [theme=dark] .colab-df-convert:hover {\n",
       "      background-color: #434B5C;\n",
       "      box-shadow: 0px 1px 3px 1px rgba(0, 0, 0, 0.15);\n",
       "      filter: drop-shadow(0px 1px 2px rgba(0, 0, 0, 0.3));\n",
       "      fill: #FFFFFF;\n",
       "    }\n",
       "  </style>\n",
       "\n",
       "      <script>\n",
       "        const buttonEl =\n",
       "          document.querySelector('#df-d80428d9-1cee-4387-b795-a6747e6ef062 button.colab-df-convert');\n",
       "        buttonEl.style.display =\n",
       "          google.colab.kernel.accessAllowed ? 'block' : 'none';\n",
       "\n",
       "        async function convertToInteractive(key) {\n",
       "          const element = document.querySelector('#df-d80428d9-1cee-4387-b795-a6747e6ef062');\n",
       "          const dataTable =\n",
       "            await google.colab.kernel.invokeFunction('convertToInteractive',\n",
       "                                                     [key], {});\n",
       "          if (!dataTable) return;\n",
       "\n",
       "          const docLinkHtml = 'Like what you see? Visit the ' +\n",
       "            '<a target=\"_blank\" href=https://colab.research.google.com/notebooks/data_table.ipynb>data table notebook</a>'\n",
       "            + ' to learn more about interactive tables.';\n",
       "          element.innerHTML = '';\n",
       "          dataTable['output_type'] = 'display_data';\n",
       "          await google.colab.output.renderOutput(dataTable, element);\n",
       "          const docLink = document.createElement('div');\n",
       "          docLink.innerHTML = docLinkHtml;\n",
       "          element.appendChild(docLink);\n",
       "        }\n",
       "      </script>\n",
       "    </div>\n",
       "  </div>\n",
       "  "
      ],
      "text/plain": [
       "                country  child_mort  exports  health  imports  income  \\\n",
       "0           Afghanistan        90.2     10.0    7.58     44.9    1610   \n",
       "1               Albania        16.6     28.0    6.55     48.6    9930   \n",
       "2               Algeria        27.3     38.4    4.17     31.4   12900   \n",
       "3                Angola       119.0     62.3    2.85     42.9    5900   \n",
       "4   Antigua and Barbuda        10.3     45.5    6.03     58.9   19100   \n",
       "5             Argentina        14.5     18.9    8.10     16.0   18700   \n",
       "6               Armenia        18.1     20.8    4.40     45.3    6700   \n",
       "7             Australia         4.8     19.8    8.73     20.9   41400   \n",
       "8               Austria         4.3     51.3   11.00     47.8   43200   \n",
       "9            Azerbaijan        39.2     54.3    5.88     20.7   16000   \n",
       "10              Bahamas        13.8     35.0    7.89     43.7   22900   \n",
       "11              Bahrain         8.6     69.5    4.97     50.9   41100   \n",
       "12           Bangladesh        49.4     16.0    3.52     21.8    2440   \n",
       "13             Barbados        14.2     39.5    7.97     48.7   15300   \n",
       "14              Belarus         5.5     51.4    5.61     64.5   16200   \n",
       "15              Belgium         4.5     76.4   10.70     74.7   41100   \n",
       "16               Belize        18.8     58.2    5.20     57.5    7880   \n",
       "17                Benin       111.0     23.8    4.10     37.2    1820   \n",
       "18               Bhutan        42.7     42.5    5.20     70.7    6420   \n",
       "19              Bolivia        46.6     41.2    4.84     34.3    5410   \n",
       "\n",
       "    inflation  life_expec  total_fer   gdpp  KMeans_Labels  \n",
       "0       9.440        56.2       5.82    553              1  \n",
       "1       4.490        76.3       1.65   4090              0  \n",
       "2      16.100        76.5       2.89   4460              0  \n",
       "3      22.400        60.1       6.16   3530              1  \n",
       "4       1.440        76.8       2.13  12200              0  \n",
       "5      20.900        75.8       2.37  10300              0  \n",
       "6       7.770        73.3       1.69   3220              0  \n",
       "7       1.160        82.0       1.93  51900              0  \n",
       "8       0.873        80.5       1.44  46900              0  \n",
       "9      13.800        69.1       1.92   5840              0  \n",
       "10     -0.393        73.8       1.86  28000              0  \n",
       "11      7.440        76.0       2.16  20700              0  \n",
       "12      7.140        70.4       2.33    758              0  \n",
       "13      0.321        76.7       1.78  16000              0  \n",
       "14     15.100        70.4       1.49   6030              0  \n",
       "15      1.880        80.0       1.86  44400              0  \n",
       "16      1.140        71.4       2.71   4340              0  \n",
       "17      0.885        61.8       5.36    758              1  \n",
       "18      5.990        72.1       2.38   2180              0  \n",
       "19      8.780        71.6       3.20   1980              0  "
      ]
     },
     "execution_count": 35,
     "metadata": {},
     "output_type": "execute_result"
    }
   ],
   "source": [
    "data.head(20)"
   ]
  },
  {
   "cell_type": "code",
   "execution_count": 18,
   "metadata": {
    "colab": {
     "base_uri": "https://localhost:8080/"
    },
    "executionInfo": {
     "elapsed": 439,
     "status": "ok",
     "timestamp": 1673110397541,
     "user": {
      "displayName": "Abhinav Harsh",
      "userId": "08825161285052345463"
     },
     "user_tz": -330
    },
    "id": "UoBGnjy3yFBM",
    "outputId": "123cea76-bdb7-4180-a3d4-402a00648642"
   },
   "outputs": [
    {
     "data": {
      "text/plain": [
       "0    112\n",
       "1     52\n",
       "2      3\n",
       "Name: KMeans_Labels, dtype: int64"
      ]
     },
     "execution_count": 18,
     "metadata": {},
     "output_type": "execute_result"
    }
   ],
   "source": [
    "data['KMeans_Labels'].value_counts()"
   ]
  },
  {
   "cell_type": "markdown",
   "metadata": {
    "id": "s2fnSnR9oFeR"
   },
   "source": [
    "**Observation:**\n",
    "\n",
    "- This looks like a very skewed clustering, with only three observations in one cluster and more than a hundred in another. Let's check out the profiles of these clusters."
   ]
  },
  {
   "cell_type": "code",
   "execution_count": 19,
   "metadata": {
    "colab": {
     "base_uri": "https://localhost:8080/",
     "height": 332
    },
    "executionInfo": {
     "elapsed": 22,
     "status": "ok",
     "timestamp": 1673110466565,
     "user": {
      "displayName": "Abhinav Harsh",
      "userId": "08825161285052345463"
     },
     "user_tz": -330
    },
    "id": "F5W_TaIllfv3",
    "outputId": "917cc8aa-183e-4889-b0c8-99077877405c"
   },
   "outputs": [
    {
     "data": {
      "text/html": [
       "<div>\n",
       "<style scoped>\n",
       "    .dataframe tbody tr th:only-of-type {\n",
       "        vertical-align: middle;\n",
       "    }\n",
       "\n",
       "    .dataframe tbody tr th {\n",
       "        vertical-align: top;\n",
       "    }\n",
       "\n",
       "    .dataframe thead th {\n",
       "        text-align: right;\n",
       "    }\n",
       "</style>\n",
       "<table border=\"1\" class=\"dataframe\">\n",
       "  <thead>\n",
       "    <tr style=\"text-align: right;\">\n",
       "      <th></th>\n",
       "      <th>group_0 Mean</th>\n",
       "      <th>group_1 Mean</th>\n",
       "      <th>group_2 Mean</th>\n",
       "      <th>group_0 Median</th>\n",
       "      <th>group_1 Median</th>\n",
       "      <th>group_2 Median</th>\n",
       "    </tr>\n",
       "  </thead>\n",
       "  <tbody>\n",
       "    <tr>\n",
       "      <th>child_mort</th>\n",
       "      <td>15.703571</td>\n",
       "      <td>88.844231</td>\n",
       "      <td>4.133333</td>\n",
       "      <td>12.450</td>\n",
       "      <td>85.65</td>\n",
       "      <td>2.80</td>\n",
       "    </tr>\n",
       "    <tr>\n",
       "      <th>exports</th>\n",
       "      <td>43.487500</td>\n",
       "      <td>28.203827</td>\n",
       "      <td>176.000000</td>\n",
       "      <td>39.600</td>\n",
       "      <td>23.30</td>\n",
       "      <td>175.00</td>\n",
       "    </tr>\n",
       "    <tr>\n",
       "      <th>health</th>\n",
       "      <td>7.069464</td>\n",
       "      <td>6.270385</td>\n",
       "      <td>6.793333</td>\n",
       "      <td>6.790</td>\n",
       "      <td>5.48</td>\n",
       "      <td>7.77</td>\n",
       "    </tr>\n",
       "    <tr>\n",
       "      <th>imports</th>\n",
       "      <td>46.143750</td>\n",
       "      <td>42.164729</td>\n",
       "      <td>156.666667</td>\n",
       "      <td>44.900</td>\n",
       "      <td>39.75</td>\n",
       "      <td>154.00</td>\n",
       "    </tr>\n",
       "    <tr>\n",
       "      <th>income</th>\n",
       "      <td>22069.285714</td>\n",
       "      <td>3832.750000</td>\n",
       "      <td>64033.333333</td>\n",
       "      <td>16250.000</td>\n",
       "      <td>1960.00</td>\n",
       "      <td>72100.00</td>\n",
       "    </tr>\n",
       "    <tr>\n",
       "      <th>inflation</th>\n",
       "      <td>6.042920</td>\n",
       "      <td>11.833750</td>\n",
       "      <td>2.468000</td>\n",
       "      <td>3.810</td>\n",
       "      <td>8.95</td>\n",
       "      <td>3.62</td>\n",
       "    </tr>\n",
       "    <tr>\n",
       "      <th>life_expec</th>\n",
       "      <td>75.215179</td>\n",
       "      <td>59.892308</td>\n",
       "      <td>81.433333</td>\n",
       "      <td>75.800</td>\n",
       "      <td>60.45</td>\n",
       "      <td>81.30</td>\n",
       "    </tr>\n",
       "    <tr>\n",
       "      <th>total_fer</th>\n",
       "      <td>2.119821</td>\n",
       "      <td>4.822115</td>\n",
       "      <td>1.380000</td>\n",
       "      <td>1.995</td>\n",
       "      <td>5.00</td>\n",
       "      <td>1.36</td>\n",
       "    </tr>\n",
       "    <tr>\n",
       "      <th>gdpp</th>\n",
       "      <td>16937.535714</td>\n",
       "      <td>1832.884615</td>\n",
       "      <td>57566.666667</td>\n",
       "      <td>8580.000</td>\n",
       "      <td>932.00</td>\n",
       "      <td>46600.00</td>\n",
       "    </tr>\n",
       "  </tbody>\n",
       "</table>\n",
       "</div>"
      ],
      "text/plain": [
       "            group_0 Mean  group_1 Mean  group_2 Mean  group_0 Median  \\\n",
       "child_mort     15.703571     88.844231      4.133333          12.450   \n",
       "exports        43.487500     28.203827    176.000000          39.600   \n",
       "health          7.069464      6.270385      6.793333           6.790   \n",
       "imports        46.143750     42.164729    156.666667          44.900   \n",
       "income      22069.285714   3832.750000  64033.333333       16250.000   \n",
       "inflation       6.042920     11.833750      2.468000           3.810   \n",
       "life_expec     75.215179     59.892308     81.433333          75.800   \n",
       "total_fer       2.119821      4.822115      1.380000           1.995   \n",
       "gdpp        16937.535714   1832.884615  57566.666667        8580.000   \n",
       "\n",
       "            group_1 Median  group_2 Median  \n",
       "child_mort           85.65            2.80  \n",
       "exports              23.30          175.00  \n",
       "health                5.48            7.77  \n",
       "imports              39.75          154.00  \n",
       "income             1960.00        72100.00  \n",
       "inflation             8.95            3.62  \n",
       "life_expec           60.45           81.30  \n",
       "total_fer             5.00            1.36  \n",
       "gdpp                932.00        46600.00  "
      ]
     },
     "execution_count": 19,
     "metadata": {},
     "output_type": "execute_result"
    }
   ],
   "source": [
    "# Calculating the mean and the median of the original data for each label\n",
    "mean = data.groupby('KMeans_Labels').mean()\n",
    "\n",
    "median = data.groupby('KMeans_Labels').median()\n",
    "\n",
    "df_kmeans = pd.concat([mean, median], axis = 0)\n",
    "\n",
    "df_kmeans.index = ['group_0 Mean', 'group_1 Mean', 'group_2 Mean', 'group_0 Median', 'group_1 Median', 'group_2 Median']\n",
    "\n",
    "df_kmeans.T"
   ]
  },
  {
   "cell_type": "markdown",
   "metadata": {
    "id": "_LFHEsIglEez"
   },
   "source": [
    "**Observations:**\n",
    "\n",
    "- It looks like Cluster 2 belongs to high income countries which also have high gdpp. \n",
    "- Cluster 1 seems to be of low income countries, with low mean gdp as well. \n",
    "- The remaining countries are in Cluster 0 which also happens to be the biggest cluster. Since the number of developing countries is larger than the group of highly developed countries, this intuitively makes sense.\n",
    "\n",
    "Let us now visualize the summary statistics of these clusters below."
   ]
  },
  {
   "cell_type": "code",
   "execution_count": 20,
   "metadata": {
    "colab": {
     "base_uri": "https://localhost:8080/",
     "height": 1000
    },
    "executionInfo": {
     "elapsed": 1982,
     "status": "ok",
     "timestamp": 1673110849229,
     "user": {
      "displayName": "Abhinav Harsh",
      "userId": "08825161285052345463"
     },
     "user_tz": -330
    },
    "id": "gHZv5CURlEe1",
    "outputId": "ca87af1f-b135-404f-af1b-732c799edcee",
    "scrolled": false
   },
   "outputs": [
    {
     "data": {
      "image/png": "[encoded data removed]",
      "text/plain": [
       "<Figure size 432x288 with 1 Axes>"
      ]
     },
     "metadata": {
      "needs_background": "light"
     },
     "output_type": "display_data"
    },
    {
     "data": {
      "image/png": "[encoded data removed]",
      "text/plain": [
       "<Figure size 432x288 with 1 Axes>"
      ]
     },
     "metadata": {
      "needs_background": "light"
     },
     "output_type": "display_data"
    },
    {
     "data": {
      "image/png": "[encoded data removed]",
      "text/plain": [
       "<Figure size 432x288 with 1 Axes>"
      ]
     },
     "metadata": {
      "needs_background": "light"
     },
     "output_type": "display_data"
    },
    {
     "data": {
      "image/png": "[encoded data removed]",
      "text/plain": [
       "<Figure size 432x288 with 1 Axes>"
      ]
     },
     "metadata": {
      "needs_background": "light"
     },
     "output_type": "display_data"
    },
    {
     "data": {
      "image/png": "[encoded data removed]",
      "text/plain": [
       "<Figure size 432x288 with 1 Axes>"
      ]
     },
     "metadata": {
      "needs_background": "light"
     },
     "output_type": "display_data"
    },
    {
     "data": {
      "image/png": "[encoded data removed]",
      "text/plain": [
       "<Figure size 432x288 with 1 Axes>"
      ]
     },
     "metadata": {
      "needs_background": "light"
     },
     "output_type": "display_data"
    },
    {
     "data": {
      "image/png": "[encoded data removed]",
      "text/plain": [
       "<Figure size 432x288 with 1 Axes>"
      ]
     },
     "metadata": {
      "needs_background": "light"
     },
     "output_type": "display_data"
    },
    {
     "data": {
      "image/png": "[encoded data removed]",
      "text/plain": [
       "<Figure size 432x288 with 1 Axes>"
      ]
     },
     "metadata": {
      "needs_background": "light"
     },
     "output_type": "display_data"
    },
    {
     "data": {
      "image/png": "[encoded data removed]",
      "text/plain": [
       "<Figure size 432x288 with 1 Axes>"
      ]
     },
     "metadata": {
      "needs_background": "light"
     },
     "output_type": "display_data"
    }
   ],
   "source": [
    "cols_visualise = ['child_mort', 'exports', 'health', 'imports', 'income', 'inflation', 'life_expec', 'total_fer', 'gdpp']\n",
    "\n",
    "for col in cols_visualise:\n",
    "    sns.boxplot(x = 'KMeans_Labels', y = col, data = data)\n",
    "    plt.show()"
   ]
  },
  {
   "cell_type": "markdown",
   "metadata": {
    "id": "bH_dHHeElEe3"
   },
   "source": [
    "**Cluster Profiles:**\n",
    "\n",
    "- Cluster 2 has only 3 observations. As observed from the scatter plots and the boxplots, this group **consists of outlier high income countries** with the highest percentages of imports and exports in terms of GDP.\n",
    "- Cluster 1 seems to have countries with less desirable values for many indicators. These countries seem to have the highest inflation rates, the lowest GDP per capita, the lowest exports as well as imports - all signaling a very poor economic situation. These countries also have the highest child mortalities, the highest fertility rates, and the lowest life expectancies. These characteristics are traits of **underdeveloped or developing countries**. These countries also seem to have a trade deficit, i.e., more imports than exports, and as a consequence, may be more reliant on borrowing and lines of credit to finance their economy.\n",
    "- Cluster 0 is the largest cluster with traits of countries that fall in the **middle of the development spectrum**. These countries have a comparatively better state of affairs than the countries in cluster 1. However, this cluster has a large range of values, indicating that it is a mix of many different types of countries. Ideally, we do not want a cluster to be like this as the fundamental idea behind clustering is to 'group similar things' and this cluster seems to have a lot of 'dissimilarity' within it.\n",
    "- Overall, this clustering solution does give us good insights into potential clusters of similar countries but is not very useful as it is impacted by outlier countries resulting in one very small cluster and two very big clusters. We should try other algorithms to see if we can do better. "
   ]
  },
  {
   "cell_type": "markdown",
   "metadata": {
    "id": "ZQCDSUErlEe5"
   },
   "source": [
    "But before that, let's validate if these clusters relate well with the GDP of the country."
   ]
  },
  {
   "cell_type": "code",
   "execution_count": 21,
   "metadata": {
    "colab": {
     "base_uri": "https://localhost:8080/",
     "height": 1000
    },
    "executionInfo": {
     "elapsed": 3094,
     "status": "ok",
     "timestamp": 1673111204518,
     "user": {
      "displayName": "Abhinav Harsh",
      "userId": "08825161285052345463"
     },
     "user_tz": -330
    },
    "id": "AOXwTUHaA7tW",
    "outputId": "5b0b720b-27a2-4f89-d50c-9a1d855f94c5",
    "scrolled": false
   },
   "outputs": [
    {
     "data": {
      "image/png": "[encoded data removed]",
      "text/plain": [
       "<Figure size 432x288 with 1 Axes>"
      ]
     },
     "metadata": {
      "needs_background": "light"
     },
     "output_type": "display_data"
    },
    {
     "data": {
      "image/png": "[encoded data removed]",
      "text/plain": [
       "<Figure size 432x288 with 1 Axes>"
      ]
     },
     "metadata": {
      "needs_background": "light"
     },
     "output_type": "display_data"
    },
    {
     "data": {
      "image/png": "[encoded data removed]",
      "text/plain": [
       "<Figure size 432x288 with 1 Axes>"
      ]
     },
     "metadata": {
      "needs_background": "light"
     },
     "output_type": "display_data"
    },
    {
     "data": {
      "image/png": "[encoded data removed]",
      "text/plain": [
       "<Figure size 432x288 with 1 Axes>"
      ]
     },
     "metadata": {
      "needs_background": "light"
     },
     "output_type": "display_data"
    },
    {
     "data": {
      "image/png": "[encoded data removed]",
      "text/plain": [
       "<Figure size 432x288 with 1 Axes>"
      ]
     },
     "metadata": {
      "needs_background": "light"
     },
     "output_type": "display_data"
    },
    {
     "data": {
      "image/png": "[encoded data removed]",
      "text/plain": [
       "<Figure size 432x288 with 1 Axes>"
      ]
     },
     "metadata": {
      "needs_background": "light"
     },
     "output_type": "display_data"
    },
    {
     "data": {
      "image/png": "[encoded data removed]",
      "text/plain": [
       "<Figure size 432x288 with 1 Axes>"
      ]
     },
     "metadata": {
      "needs_background": "light"
     },
     "output_type": "display_data"
    },
    {
     "data": {
      "image/png": "[encoded data removed]",
      "text/plain": [
       "<Figure size 432x288 with 1 Axes>"
      ]
     },
     "metadata": {
      "needs_background": "light"
     },
     "output_type": "display_data"
    },
    {
     "data": {
      "image/png": "[encoded data removed]",
      "text/plain": [
       "<Figure size 432x288 with 1 Axes>"
      ]
     },
     "metadata": {
      "needs_background": "light"
     },
     "output_type": "display_data"
    }
   ],
   "source": [
    "cols_visualise = ['child_mort', 'exports', 'health', 'imports', 'income', 'inflation', 'life_expec', 'total_fer', 'gdpp']\n",
    "\n",
    "for col in cols_visualise:\n",
    "    sns.scatterplot(x = col, y = 'gdpp', data = data, hue = 'KMeans_Labels', palette = 'Dark2')\n",
    "    \n",
    "    plt.show()"
   ]
  },
  {
   "cell_type": "code",
   "execution_count": null,
   "metadata": {
    "id": "opv8YZPEuVa0"
   },
   "outputs": [],
   "source": []
  },
  {
   "cell_type": "markdown",
   "metadata": {
    "id": "C2dmOJgqlEe8"
   },
   "source": [
    "**Observations:**\n",
    "\n",
    "- The countries with higher fertility rates also seem to have higher populations, corresponding with lower per capita income in these countries.\n",
    "- The child mortality also seems to be negatively correlated with the GDP of the country. The high child mortality in such countries could be due to several reasons such as high poverty or lower net income per person and a relative lack of health facilities among others.\n"
   ]
  },
  {
   "cell_type": "code",
   "execution_count": null,
   "metadata": {},
   "outputs": [],
   "source": []
  }
 ],
 "metadata": {
  "colab": {
   "provenance": []
  },
  "kernelspec": {
   "display_name": "Python 3 (ipykernel)",
   "language": "python",
   "name": "python3"
  },
  "language_info": {
   "codemirror_mode": {
    "name": "ipython",
    "version": 3
   },
   "file_extension": ".py",
   "mimetype": "text/x-python",
   "name": "python",
   "nbconvert_exporter": "python",
   "pygments_lexer": "ipython3",
   "version": "3.10.9"
  }
 },
 "nbformat": 4,
 "nbformat_minor": 1
}
