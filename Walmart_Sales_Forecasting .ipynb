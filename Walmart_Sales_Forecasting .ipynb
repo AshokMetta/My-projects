{
 "cells": [
  {
   "cell_type": "markdown",
   "id": "fec2cefa",
   "metadata": {},
   "source": [
    "# Problem Statement 1:\n",
    "A retail store that has multiple outlets across the country are facing issues in managing the\n",
    "inventory - to match the demand with respect to supply."
   ]
  },
  {
   "cell_type": "code",
   "execution_count": 2,
   "id": "9d73e119",
   "metadata": {},
   "outputs": [],
   "source": [
    "#Import Required Libraries\n",
    "import pandas as pd\n",
    "import numpy as np\n",
    "import matplotlib.pyplot as plt\n",
    "import seaborn as sns\n",
    "import datetime as dt\n",
    "from datetime import timedelta\n",
    "import warnings\n",
    "warnings.filterwarnings('ignore')"
   ]
  },
  {
   "cell_type": "code",
   "execution_count": 3,
   "id": "cbd5b740",
   "metadata": {},
   "outputs": [],
   "source": [
    "data=pd.read_csv(r'C:/Python/Project/Capstone Project/Project/Walmart.csv') #Import Dataset"
   ]
  },
  {
   "cell_type": "code",
   "execution_count": 3,
   "id": "a332333a",
   "metadata": {},
   "outputs": [
    {
     "data": {
      "text/html": [
       "<div>\n",
       "<style scoped>\n",
       "    .dataframe tbody tr th:only-of-type {\n",
       "        vertical-align: middle;\n",
       "    }\n",
       "\n",
       "    .dataframe tbody tr th {\n",
       "        vertical-align: top;\n",
       "    }\n",
       "\n",
       "    .dataframe thead th {\n",
       "        text-align: right;\n",
       "    }\n",
       "</style>\n",
       "<table border=\"1\" class=\"dataframe\">\n",
       "  <thead>\n",
       "    <tr style=\"text-align: right;\">\n",
       "      <th></th>\n",
       "      <th>Store</th>\n",
       "      <th>Date</th>\n",
       "      <th>Weekly_Sales</th>\n",
       "      <th>Holiday_Flag</th>\n",
       "      <th>Temperature</th>\n",
       "      <th>Fuel_Price</th>\n",
       "      <th>CPI</th>\n",
       "      <th>Unemployment</th>\n",
       "    </tr>\n",
       "  </thead>\n",
       "  <tbody>\n",
       "    <tr>\n",
       "      <th>0</th>\n",
       "      <td>1</td>\n",
       "      <td>05-02-2010</td>\n",
       "      <td>1643690.90</td>\n",
       "      <td>0</td>\n",
       "      <td>42.31</td>\n",
       "      <td>2.572</td>\n",
       "      <td>211.096358</td>\n",
       "      <td>8.106</td>\n",
       "    </tr>\n",
       "    <tr>\n",
       "      <th>1</th>\n",
       "      <td>1</td>\n",
       "      <td>12-02-2010</td>\n",
       "      <td>1641957.44</td>\n",
       "      <td>1</td>\n",
       "      <td>38.51</td>\n",
       "      <td>2.548</td>\n",
       "      <td>211.242170</td>\n",
       "      <td>8.106</td>\n",
       "    </tr>\n",
       "    <tr>\n",
       "      <th>2</th>\n",
       "      <td>1</td>\n",
       "      <td>19-02-2010</td>\n",
       "      <td>1611968.17</td>\n",
       "      <td>0</td>\n",
       "      <td>39.93</td>\n",
       "      <td>2.514</td>\n",
       "      <td>211.289143</td>\n",
       "      <td>8.106</td>\n",
       "    </tr>\n",
       "    <tr>\n",
       "      <th>3</th>\n",
       "      <td>1</td>\n",
       "      <td>26-02-2010</td>\n",
       "      <td>1409727.59</td>\n",
       "      <td>0</td>\n",
       "      <td>46.63</td>\n",
       "      <td>2.561</td>\n",
       "      <td>211.319643</td>\n",
       "      <td>8.106</td>\n",
       "    </tr>\n",
       "    <tr>\n",
       "      <th>4</th>\n",
       "      <td>1</td>\n",
       "      <td>05-03-2010</td>\n",
       "      <td>1554806.68</td>\n",
       "      <td>0</td>\n",
       "      <td>46.50</td>\n",
       "      <td>2.625</td>\n",
       "      <td>211.350143</td>\n",
       "      <td>8.106</td>\n",
       "    </tr>\n",
       "  </tbody>\n",
       "</table>\n",
       "</div>"
      ],
      "text/plain": [
       "   Store        Date  Weekly_Sales  Holiday_Flag  Temperature  Fuel_Price  \\\n",
       "0      1  05-02-2010    1643690.90             0        42.31       2.572   \n",
       "1      1  12-02-2010    1641957.44             1        38.51       2.548   \n",
       "2      1  19-02-2010    1611968.17             0        39.93       2.514   \n",
       "3      1  26-02-2010    1409727.59             0        46.63       2.561   \n",
       "4      1  05-03-2010    1554806.68             0        46.50       2.625   \n",
       "\n",
       "          CPI  Unemployment  \n",
       "0  211.096358         8.106  \n",
       "1  211.242170         8.106  \n",
       "2  211.289143         8.106  \n",
       "3  211.319643         8.106  \n",
       "4  211.350143         8.106  "
      ]
     },
     "execution_count": 3,
     "metadata": {},
     "output_type": "execute_result"
    }
   ],
   "source": [
    "data.head()"
   ]
  },
  {
   "cell_type": "code",
   "execution_count": 4,
   "id": "06e84875",
   "metadata": {},
   "outputs": [
    {
     "data": {
      "text/plain": [
       "(6435, 8)"
      ]
     },
     "execution_count": 4,
     "metadata": {},
     "output_type": "execute_result"
    }
   ],
   "source": [
    "data.shape"
   ]
  },
  {
   "cell_type": "code",
   "execution_count": 5,
   "id": "b121fb23",
   "metadata": {},
   "outputs": [
    {
     "data": {
      "text/plain": [
       "Store           0\n",
       "Date            0\n",
       "Weekly_Sales    0\n",
       "Holiday_Flag    0\n",
       "Temperature     0\n",
       "Fuel_Price      0\n",
       "CPI             0\n",
       "Unemployment    0\n",
       "dtype: int64"
      ]
     },
     "execution_count": 5,
     "metadata": {},
     "output_type": "execute_result"
    }
   ],
   "source": [
    "data.isnull().sum() #check For Null Values"
   ]
  },
  {
   "cell_type": "code",
   "execution_count": 6,
   "id": "59c91682",
   "metadata": {},
   "outputs": [
    {
     "name": "stdout",
     "output_type": "stream",
     "text": [
      "<class 'pandas.core.frame.DataFrame'>\n",
      "RangeIndex: 6435 entries, 0 to 6434\n",
      "Data columns (total 8 columns):\n",
      " #   Column        Non-Null Count  Dtype  \n",
      "---  ------        --------------  -----  \n",
      " 0   Store         6435 non-null   int64  \n",
      " 1   Date          6435 non-null   object \n",
      " 2   Weekly_Sales  6435 non-null   float64\n",
      " 3   Holiday_Flag  6435 non-null   int64  \n",
      " 4   Temperature   6435 non-null   float64\n",
      " 5   Fuel_Price    6435 non-null   float64\n",
      " 6   CPI           6435 non-null   float64\n",
      " 7   Unemployment  6435 non-null   float64\n",
      "dtypes: float64(5), int64(2), object(1)\n",
      "memory usage: 402.3+ KB\n"
     ]
    }
   ],
   "source": [
    "data.info()"
   ]
  },
  {
   "cell_type": "code",
   "execution_count": 7,
   "id": "bb2091f3",
   "metadata": {},
   "outputs": [
    {
     "data": {
      "text/plain": [
       "array([ 1,  2,  3,  4,  5,  6,  7,  8,  9, 10, 11, 12, 13, 14, 15, 16, 17,\n",
       "       18, 19, 20, 21, 22, 23, 24, 25, 26, 27, 28, 29, 30, 31, 32, 33, 34,\n",
       "       35, 36, 37, 38, 39, 40, 41, 42, 43, 44, 45], dtype=int64)"
      ]
     },
     "execution_count": 7,
     "metadata": {},
     "output_type": "execute_result"
    }
   ],
   "source": [
    "data.Store.unique() # check Numbers Of Stores"
   ]
  },
  {
   "cell_type": "markdown",
   "id": "59082616",
   "metadata": {},
   "source": [
    "# 1. Using the above data, come up with useful insights that can be used by each of the stores to improve in various areas"
   ]
  },
  {
   "cell_type": "code",
   "execution_count": 8,
   "id": "22528994",
   "metadata": {},
   "outputs": [
    {
     "data": {
      "text/plain": [
       "<AxesSubplot:xlabel='Store', ylabel='Weekly_Sales'>"
      ]
     },
     "execution_count": 8,
     "metadata": {},
     "output_type": "execute_result"
    },
    {
     "data": {
      "image/png": "[encoded data removed]",
      "text/plain": [
       "<Figure size 1080x360 with 1 Axes>"
      ]
     },
     "metadata": {
      "needs_background": "light"
     },
     "output_type": "display_data"
    }
   ],
   "source": [
    "#Weekly Sales Per Store\n",
    "d1=data.groupby(['Store']).sum().reset_index()\n",
    "plt.figure(figsize=(15,5))\n",
    "sns.barplot(x='Store',y='Weekly_Sales', data=d1, order=d1.sort_values(by='Weekly_Sales',ascending=False)['Store'])"
   ]
  },
  {
   "cell_type": "code",
   "execution_count": 9,
   "id": "be7df186",
   "metadata": {},
   "outputs": [
    {
     "data": {
      "text/plain": [
       "<AxesSubplot:xlabel='Temperature', ylabel='Weekly_Sales'>"
      ]
     },
     "execution_count": 9,
     "metadata": {},
     "output_type": "execute_result"
    },
    {
     "data": {
      "image/png": "[encoded data removed]",
      "text/plain": [
       "<Figure size 1080x360 with 1 Axes>"
      ]
     },
     "metadata": {
      "needs_background": "light"
     },
     "output_type": "display_data"
    }
   ],
   "source": [
    "#Weekly Sales & Temperature Relation\n",
    "d2=data[['Temperature','Weekly_Sales']]\n",
    "bins=[-3,10,20,30,40,50,60,70,80,90,100,110]\n",
    "d2['Temperature']=pd.cut(d2['Temperature'],bins)\n",
    "d2=d2.groupby(['Temperature']).sum().reset_index()\n",
    "plt.figure(figsize=(15,5))\n",
    "sns.barplot(x='Temperature',y='Weekly_Sales', data=d2)"
   ]
  },
  {
   "cell_type": "code",
   "execution_count": 10,
   "id": "f765f220",
   "metadata": {},
   "outputs": [
    {
     "data": {
      "text/plain": [
       "<AxesSubplot:xlabel='Fuel_Price', ylabel='Weekly_Sales'>"
      ]
     },
     "execution_count": 10,
     "metadata": {},
     "output_type": "execute_result"
    },
    {
     "data": {
      "image/png": "[encoded data removed]",
      "text/plain": [
       "<Figure size 720x360 with 1 Axes>"
      ]
     },
     "metadata": {
      "needs_background": "light"
     },
     "output_type": "display_data"
    }
   ],
   "source": [
    "#Weekly Sales & Fuel Price Relation\n",
    "d3=data[['Fuel_Price','Weekly_Sales']]\n",
    "bin1=np.linspace(2,5,5)\n",
    "d3['Fuel_Price']=pd.cut(d3['Fuel_Price'],bin1)\n",
    "d3=d3.groupby(['Fuel_Price']).sum().reset_index()\n",
    "plt.figure(figsize=(10,5))\n",
    "sns.barplot(x='Fuel_Price',y='Weekly_Sales', data=d3)"
   ]
  },
  {
   "cell_type": "code",
   "execution_count": 11,
   "id": "7c546282",
   "metadata": {},
   "outputs": [
    {
     "data": {
      "text/plain": [
       "<AxesSubplot:xlabel='CPI', ylabel='Weekly_Sales'>"
      ]
     },
     "execution_count": 11,
     "metadata": {},
     "output_type": "execute_result"
    },
    {
     "data": {
      "image/png": "[encoded data removed]",
      "text/plain": [
       "<Figure size 1440x360 with 1 Axes>"
      ]
     },
     "metadata": {
      "needs_background": "light"
     },
     "output_type": "display_data"
    }
   ],
   "source": [
    "#Weekly Sales & Consumer Price Index Relation\n",
    "d4=data[['CPI','Weekly_Sales']]\n",
    "bin2=np.linspace(126,228,10)\n",
    "d4['CPI']=pd.cut(d4['CPI'],bin2)\n",
    "d4=d4.groupby(['CPI']).sum().reset_index()\n",
    "plt.figure(figsize=(20,5))\n",
    "sns.barplot(x='CPI',y='Weekly_Sales', data=d4)"
   ]
  },
  {
   "cell_type": "code",
   "execution_count": 12,
   "id": "ba773425",
   "metadata": {},
   "outputs": [
    {
     "data": {
      "text/plain": [
       "<AxesSubplot:xlabel='Unemployment', ylabel='Weekly_Sales'>"
      ]
     },
     "execution_count": 12,
     "metadata": {},
     "output_type": "execute_result"
    },
    {
     "data": {
      "image/png": "[encoded data removed]",
      "text/plain": [
       "<Figure size 1440x360 with 1 Axes>"
      ]
     },
     "metadata": {
      "needs_background": "light"
     },
     "output_type": "display_data"
    }
   ],
   "source": [
    "#Weekly Sales & Unemployment Relation\n",
    "d5=data[['Unemployment','Weekly_Sales']]\n",
    "bin3=np.linspace(3,15,10)\n",
    "d5['Unemployment']=pd.cut(d5['Unemployment'],bin3)\n",
    "d5=d5.groupby(['Unemployment']).sum().reset_index()\n",
    "plt.figure(figsize=(20,5))\n",
    "sns.barplot(x='Unemployment',y='Weekly_Sales', data=d5)"
   ]
  },
  {
   "cell_type": "markdown",
   "id": "00d8cf9a",
   "metadata": {},
   "source": [
    "# 2. Forecast the sales for each store for the next 12 weeks."
   ]
  },
  {
   "cell_type": "code",
   "execution_count": 13,
   "id": "6f538d89",
   "metadata": {},
   "outputs": [
    {
     "data": {
      "image/png": "[encoded data removed]",
      "text/plain": [
       "<Figure size 720x720 with 2 Axes>"
      ]
     },
     "metadata": {
      "needs_background": "light"
     },
     "output_type": "display_data"
    }
   ],
   "source": [
    "#plotting Correlation Plot\n",
    "corr = data.corr()\n",
    "f, ax = plt.subplots(figsize=(10, 10))\n",
    "cmap = sns.diverging_palette(220, 20, as_cmap=True)\n",
    "sns.heatmap(corr, cmap=cmap, vmax=.3, center=0, annot=True,\n",
    "            square=True, linewidths=.5, cbar_kws={'shrink': .5})\n",
    "plt.show()"
   ]
  },
  {
   "cell_type": "code",
   "execution_count": 14,
   "id": "68d55f49",
   "metadata": {},
   "outputs": [],
   "source": [
    "#From correlation plot we know weekly sell depends on Store and Unemployment Column so keep that columns \n",
    "#also create Year,Month and day column based on date column"
   ]
  },
  {
   "cell_type": "code",
   "execution_count": 15,
   "id": "12e3a7a5",
   "metadata": {},
   "outputs": [],
   "source": [
    "data1=data.copy()"
   ]
  },
  {
   "cell_type": "code",
   "execution_count": 16,
   "id": "795572bd",
   "metadata": {},
   "outputs": [],
   "source": [
    "#split Date Column to Day,Month And Year Column For Model Training Purpose\n",
    "data1['Year'] = pd.to_datetime(data1['Date']).dt.year\n",
    "data1['Month'] = pd.to_datetime(data1['Date']).dt.month\n",
    "data1['Day'] = pd.to_datetime(data1['Date']).dt.day\n",
    "data2=data1.drop(columns=['Date', 'Holiday_Flag', 'Fuel_Price', 'Temperature', 'CPI'])"
   ]
  },
  {
   "cell_type": "code",
   "execution_count": 17,
   "id": "8ee02442",
   "metadata": {},
   "outputs": [],
   "source": [
    "#Model Building"
   ]
  },
  {
   "cell_type": "code",
   "execution_count": 18,
   "id": "eb756c6c",
   "metadata": {},
   "outputs": [],
   "source": [
    "#We Have Different 45 Store So Need To Split According to each store for taking each store samples for training\n",
    "from sklearn.model_selection import train_test_split\n",
    "x_train1=pd.DataFrame()\n",
    "x_test1=pd.DataFrame()\n",
    "y_train1=pd.DataFrame()\n",
    "y_test1=pd.DataFrame()\n",
    "for i in range(1,46):\n",
    "    datas=data2[data2['Store']==i]\n",
    "    X=datas.drop(columns=['Weekly_Sales'])\n",
    "    Y=datas['Weekly_Sales']\n",
    "    x_train,x_test,y_train,y_test=train_test_split(X,Y,test_size=0.3,random_state=0)\n",
    "    x_train1=pd.concat([x_train1, x_train], axis=0)\n",
    "    x_test1=pd.concat([x_test1, x_test], axis=0)\n",
    "    y_train1=pd.concat([y_train1, y_train], axis=0)\n",
    "    y_test1=pd.concat([y_test1, y_test], axis=0)"
   ]
  },
  {
   "cell_type": "code",
   "execution_count": 19,
   "id": "19364f98",
   "metadata": {},
   "outputs": [
    {
     "name": "stdout",
     "output_type": "stream",
     "text": [
      "(4500, 5)\n",
      "(4500, 1)\n",
      "(1935, 5)\n",
      "(1935, 1)\n"
     ]
    }
   ],
   "source": [
    "print(x_train1.shape)\n",
    "print(y_train1.shape)\n",
    "print(x_test1.shape)\n",
    "print(y_test1.shape)"
   ]
  },
  {
   "cell_type": "code",
   "execution_count": 20,
   "id": "dfc14a4f",
   "metadata": {},
   "outputs": [
    {
     "data": {
      "text/plain": [
       "RandomForestRegressor()"
      ]
     },
     "execution_count": 20,
     "metadata": {},
     "output_type": "execute_result"
    }
   ],
   "source": [
    "#For This Problem We Use Random Forest Regressor\n",
    "from sklearn.ensemble import RandomForestRegressor\n",
    "rfr=RandomForestRegressor()\n",
    "rfr.fit(x_train1,y_train1)"
   ]
  },
  {
   "cell_type": "code",
   "execution_count": 21,
   "id": "13e78b31",
   "metadata": {},
   "outputs": [],
   "source": [
    "ypred=rfr.predict(x_test1)"
   ]
  },
  {
   "cell_type": "code",
   "execution_count": 22,
   "id": "f489c0c3",
   "metadata": {},
   "outputs": [],
   "source": [
    "from sklearn.metrics import r2_score,mean_squared_error"
   ]
  },
  {
   "cell_type": "code",
   "execution_count": 23,
   "id": "78b34b84",
   "metadata": {},
   "outputs": [
    {
     "data": {
      "text/plain": [
       "0.9581795775582738"
      ]
     },
     "execution_count": 23,
     "metadata": {},
     "output_type": "execute_result"
    }
   ],
   "source": [
    "r2_score(y_test1,ypred)"
   ]
  },
  {
   "cell_type": "code",
   "execution_count": 24,
   "id": "3493770b",
   "metadata": {},
   "outputs": [],
   "source": [
    "xtrainpred=rfr.predict(x_train1)"
   ]
  },
  {
   "cell_type": "code",
   "execution_count": 25,
   "id": "41f3bfc2",
   "metadata": {},
   "outputs": [
    {
     "data": {
      "text/plain": [
       "2319547556.9074855"
      ]
     },
     "execution_count": 25,
     "metadata": {},
     "output_type": "execute_result"
    }
   ],
   "source": [
    "mean_squared_error(y_train1,xtrainpred)         #MSE For Training Data"
   ]
  },
  {
   "cell_type": "code",
   "execution_count": 26,
   "id": "843f4949",
   "metadata": {},
   "outputs": [
    {
     "data": {
      "text/plain": [
       "48161.68141694687"
      ]
     },
     "execution_count": 26,
     "metadata": {},
     "output_type": "execute_result"
    }
   ],
   "source": [
    "np.sqrt(mean_squared_error(y_train1,xtrainpred))   #RMSE For Training Data"
   ]
  },
  {
   "cell_type": "code",
   "execution_count": 27,
   "id": "70e984f9",
   "metadata": {},
   "outputs": [
    {
     "data": {
      "text/plain": [
       "13646455820.844648"
      ]
     },
     "execution_count": 27,
     "metadata": {},
     "output_type": "execute_result"
    }
   ],
   "source": [
    "mean_squared_error(y_test1,ypred)               #MSE For Testing Data"
   ]
  },
  {
   "cell_type": "code",
   "execution_count": 28,
   "id": "3bdd9e13",
   "metadata": {},
   "outputs": [
    {
     "data": {
      "text/plain": [
       "116818.04578422227"
      ]
     },
     "execution_count": 28,
     "metadata": {},
     "output_type": "execute_result"
    }
   ],
   "source": [
    "np.sqrt(mean_squared_error(y_test1,ypred))       ##RMSE For Testing Data"
   ]
  },
  {
   "cell_type": "code",
   "execution_count": 29,
   "id": "3f4db1bf",
   "metadata": {},
   "outputs": [],
   "source": [
    "#Forecasting Sales for each Store For Next 12 Weeks"
   ]
  },
  {
   "cell_type": "code",
   "execution_count": 30,
   "id": "d3c1e348",
   "metadata": {},
   "outputs": [],
   "source": [
    "data3=data.copy()"
   ]
  },
  {
   "cell_type": "code",
   "execution_count": 31,
   "id": "9aedec08",
   "metadata": {},
   "outputs": [],
   "source": [
    "data3['Date']=pd.to_datetime(data3['Date'])"
   ]
  },
  {
   "cell_type": "code",
   "execution_count": 32,
   "id": "41e7ef98",
   "metadata": {},
   "outputs": [],
   "source": [
    "#Making Format For Next 12 Weeks\n",
    "futdate=[]\n",
    "futstore=[]\n",
    "futemplo=[]\n",
    "for i in range(1,46):\n",
    "    st=data3[data3['Store']==i]\n",
    "    for m in range (1,13):\n",
    "        d11=st['Date'].max()+timedelta(weeks=m)\n",
    "        futdate.append(d11)\n",
    "        futstore.append(i)\n",
    "        futemplo.append(st['Unemployment'].mean())"
   ]
  },
  {
   "cell_type": "code",
   "execution_count": 33,
   "id": "0595dc4c",
   "metadata": {},
   "outputs": [],
   "source": [
    "futuredf=pd.DataFrame()\n",
    "futuredf['Date']=futdate\n",
    "futuredf['Store']=futstore\n",
    "futuredf['Unemployment']=futemplo"
   ]
  },
  {
   "cell_type": "code",
   "execution_count": 34,
   "id": "451b6403",
   "metadata": {},
   "outputs": [],
   "source": [
    "futuredf['Year'] = pd.to_datetime(futuredf['Date']).dt.year\n",
    "futuredf['Month'] = pd.to_datetime(futuredf['Date']).dt.month\n",
    "futuredf['Day'] = pd.to_datetime(futuredf['Date']).dt.day\n",
    "newfuture=futuredf.drop(columns=['Date'])\n",
    "pd.set_option('display.float_format', lambda x: '%.3f' % x)"
   ]
  },
  {
   "cell_type": "code",
   "execution_count": 35,
   "id": "a43dc50e",
   "metadata": {},
   "outputs": [],
   "source": [
    "newfuture['Predicted_Sales']=rfr.predict(newfuture)#new Created Next 12 weeks Data Pass Throught our Regressor"
   ]
  },
  {
   "cell_type": "code",
   "execution_count": 36,
   "id": "c06b09d6",
   "metadata": {},
   "outputs": [
    {
     "data": {
      "text/html": [
       "<div>\n",
       "<style scoped>\n",
       "    .dataframe tbody tr th:only-of-type {\n",
       "        vertical-align: middle;\n",
       "    }\n",
       "\n",
       "    .dataframe tbody tr th {\n",
       "        vertical-align: top;\n",
       "    }\n",
       "\n",
       "    .dataframe thead th {\n",
       "        text-align: right;\n",
       "    }\n",
       "</style>\n",
       "<table border=\"1\" class=\"dataframe\">\n",
       "  <thead>\n",
       "    <tr style=\"text-align: right;\">\n",
       "      <th></th>\n",
       "      <th>Store</th>\n",
       "      <th>Unemployment</th>\n",
       "      <th>Year</th>\n",
       "      <th>Month</th>\n",
       "      <th>Day</th>\n",
       "      <th>Predicted_Sales</th>\n",
       "    </tr>\n",
       "  </thead>\n",
       "  <tbody>\n",
       "    <tr>\n",
       "      <th>0</th>\n",
       "      <td>1</td>\n",
       "      <td>7.610</td>\n",
       "      <td>2012</td>\n",
       "      <td>12</td>\n",
       "      <td>17</td>\n",
       "      <td>1806633.062</td>\n",
       "    </tr>\n",
       "    <tr>\n",
       "      <th>1</th>\n",
       "      <td>1</td>\n",
       "      <td>7.610</td>\n",
       "      <td>2012</td>\n",
       "      <td>12</td>\n",
       "      <td>24</td>\n",
       "      <td>2253204.670</td>\n",
       "    </tr>\n",
       "    <tr>\n",
       "      <th>2</th>\n",
       "      <td>1</td>\n",
       "      <td>7.610</td>\n",
       "      <td>2012</td>\n",
       "      <td>12</td>\n",
       "      <td>31</td>\n",
       "      <td>1555093.352</td>\n",
       "    </tr>\n",
       "    <tr>\n",
       "      <th>3</th>\n",
       "      <td>1</td>\n",
       "      <td>7.610</td>\n",
       "      <td>2013</td>\n",
       "      <td>1</td>\n",
       "      <td>7</td>\n",
       "      <td>1596688.800</td>\n",
       "    </tr>\n",
       "    <tr>\n",
       "      <th>4</th>\n",
       "      <td>1</td>\n",
       "      <td>7.610</td>\n",
       "      <td>2013</td>\n",
       "      <td>1</td>\n",
       "      <td>14</td>\n",
       "      <td>1466017.629</td>\n",
       "    </tr>\n",
       "    <tr>\n",
       "      <th>...</th>\n",
       "      <td>...</td>\n",
       "      <td>...</td>\n",
       "      <td>...</td>\n",
       "      <td>...</td>\n",
       "      <td>...</td>\n",
       "      <td>...</td>\n",
       "    </tr>\n",
       "    <tr>\n",
       "      <th>535</th>\n",
       "      <td>45</td>\n",
       "      <td>8.649</td>\n",
       "      <td>2013</td>\n",
       "      <td>2</td>\n",
       "      <td>4</td>\n",
       "      <td>786545.870</td>\n",
       "    </tr>\n",
       "    <tr>\n",
       "      <th>536</th>\n",
       "      <td>45</td>\n",
       "      <td>8.649</td>\n",
       "      <td>2013</td>\n",
       "      <td>2</td>\n",
       "      <td>11</td>\n",
       "      <td>752332.283</td>\n",
       "    </tr>\n",
       "    <tr>\n",
       "      <th>537</th>\n",
       "      <td>45</td>\n",
       "      <td>8.649</td>\n",
       "      <td>2013</td>\n",
       "      <td>2</td>\n",
       "      <td>18</td>\n",
       "      <td>744605.897</td>\n",
       "    </tr>\n",
       "    <tr>\n",
       "      <th>538</th>\n",
       "      <td>45</td>\n",
       "      <td>8.649</td>\n",
       "      <td>2013</td>\n",
       "      <td>2</td>\n",
       "      <td>25</td>\n",
       "      <td>735705.359</td>\n",
       "    </tr>\n",
       "    <tr>\n",
       "      <th>539</th>\n",
       "      <td>45</td>\n",
       "      <td>8.649</td>\n",
       "      <td>2013</td>\n",
       "      <td>3</td>\n",
       "      <td>4</td>\n",
       "      <td>784617.401</td>\n",
       "    </tr>\n",
       "  </tbody>\n",
       "</table>\n",
       "<p>540 rows × 6 columns</p>\n",
       "</div>"
      ],
      "text/plain": [
       "     Store  Unemployment  Year  Month  Day  Predicted_Sales\n",
       "0        1         7.610  2012     12   17      1806633.062\n",
       "1        1         7.610  2012     12   24      2253204.670\n",
       "2        1         7.610  2012     12   31      1555093.352\n",
       "3        1         7.610  2013      1    7      1596688.800\n",
       "4        1         7.610  2013      1   14      1466017.629\n",
       "..     ...           ...   ...    ...  ...              ...\n",
       "535     45         8.649  2013      2    4       786545.870\n",
       "536     45         8.649  2013      2   11       752332.283\n",
       "537     45         8.649  2013      2   18       744605.897\n",
       "538     45         8.649  2013      2   25       735705.359\n",
       "539     45         8.649  2013      3    4       784617.401\n",
       "\n",
       "[540 rows x 6 columns]"
      ]
     },
     "execution_count": 36,
     "metadata": {},
     "output_type": "execute_result"
    }
   ],
   "source": [
    "newfuture      #final Forecasting Sales Of each Store for next 12 Weeks "
   ]
  },
  {
   "cell_type": "code",
   "execution_count": 37,
   "id": "b0e32632",
   "metadata": {},
   "outputs": [
    {
     "data": {
      "text/plain": [
       "<AxesSubplot:xlabel='Store', ylabel='Predicted_Sales'>"
      ]
     },
     "execution_count": 37,
     "metadata": {},
     "output_type": "execute_result"
    },
    {
     "data": {
      "image/png": "[encoded data removed]",
      "text/plain": [
       "<Figure size 1080x360 with 1 Axes>"
      ]
     },
     "metadata": {
      "needs_background": "light"
     },
     "output_type": "display_data"
    }
   ],
   "source": [
    "#checking Future Sales Of Stores\n",
    "nfd=pd.DataFrame(newfuture.groupby('Store')['Predicted_Sales'].sum().reset_index())\n",
    "plt.figure(figsize=(15,5))\n",
    "sns.barplot(x='Store',y='Predicted_Sales', data=nfd, order=nfd.sort_values(by='Predicted_Sales',ascending=False)['Store'])"
   ]
  },
  {
   "cell_type": "code",
   "execution_count": 38,
   "id": "93aaf89a",
   "metadata": {},
   "outputs": [
    {
     "data": {
      "text/html": [
       "<div>\n",
       "<style scoped>\n",
       "    .dataframe tbody tr th:only-of-type {\n",
       "        vertical-align: middle;\n",
       "    }\n",
       "\n",
       "    .dataframe tbody tr th {\n",
       "        vertical-align: top;\n",
       "    }\n",
       "\n",
       "    .dataframe thead th {\n",
       "        text-align: right;\n",
       "    }\n",
       "</style>\n",
       "<table border=\"1\" class=\"dataframe\">\n",
       "  <thead>\n",
       "    <tr style=\"text-align: right;\">\n",
       "      <th></th>\n",
       "      <th>Store</th>\n",
       "      <th>Predicted_Sales</th>\n",
       "    </tr>\n",
       "  </thead>\n",
       "  <tbody>\n",
       "    <tr>\n",
       "      <th>19</th>\n",
       "      <td>20</td>\n",
       "      <td>25740154.736</td>\n",
       "    </tr>\n",
       "    <tr>\n",
       "      <th>3</th>\n",
       "      <td>4</td>\n",
       "      <td>25074167.826</td>\n",
       "    </tr>\n",
       "    <tr>\n",
       "      <th>12</th>\n",
       "      <td>13</td>\n",
       "      <td>24685932.909</td>\n",
       "    </tr>\n",
       "    <tr>\n",
       "      <th>1</th>\n",
       "      <td>2</td>\n",
       "      <td>23958310.737</td>\n",
       "    </tr>\n",
       "    <tr>\n",
       "      <th>9</th>\n",
       "      <td>10</td>\n",
       "      <td>23423044.275</td>\n",
       "    </tr>\n",
       "    <tr>\n",
       "      <th>13</th>\n",
       "      <td>14</td>\n",
       "      <td>22784394.956</td>\n",
       "    </tr>\n",
       "    <tr>\n",
       "      <th>26</th>\n",
       "      <td>27</td>\n",
       "      <td>20688431.676</td>\n",
       "    </tr>\n",
       "    <tr>\n",
       "      <th>5</th>\n",
       "      <td>6</td>\n",
       "      <td>19300220.438</td>\n",
       "    </tr>\n",
       "    <tr>\n",
       "      <th>0</th>\n",
       "      <td>1</td>\n",
       "      <td>19294699.433</td>\n",
       "    </tr>\n",
       "    <tr>\n",
       "      <th>38</th>\n",
       "      <td>39</td>\n",
       "      <td>18523407.700</td>\n",
       "    </tr>\n",
       "    <tr>\n",
       "      <th>18</th>\n",
       "      <td>19</td>\n",
       "      <td>17867846.459</td>\n",
       "    </tr>\n",
       "    <tr>\n",
       "      <th>30</th>\n",
       "      <td>31</td>\n",
       "      <td>17360081.345</td>\n",
       "    </tr>\n",
       "    <tr>\n",
       "      <th>10</th>\n",
       "      <td>11</td>\n",
       "      <td>17354010.745</td>\n",
       "    </tr>\n",
       "    <tr>\n",
       "      <th>22</th>\n",
       "      <td>23</td>\n",
       "      <td>17107413.059</td>\n",
       "    </tr>\n",
       "    <tr>\n",
       "      <th>23</th>\n",
       "      <td>24</td>\n",
       "      <td>16365454.018</td>\n",
       "    </tr>\n",
       "    <tr>\n",
       "      <th>27</th>\n",
       "      <td>28</td>\n",
       "      <td>16148189.062</td>\n",
       "    </tr>\n",
       "    <tr>\n",
       "      <th>40</th>\n",
       "      <td>41</td>\n",
       "      <td>15736418.774</td>\n",
       "    </tr>\n",
       "    <tr>\n",
       "      <th>31</th>\n",
       "      <td>32</td>\n",
       "      <td>14544840.645</td>\n",
       "    </tr>\n",
       "    <tr>\n",
       "      <th>11</th>\n",
       "      <td>12</td>\n",
       "      <td>12640010.735</td>\n",
       "    </tr>\n",
       "    <tr>\n",
       "      <th>21</th>\n",
       "      <td>22</td>\n",
       "      <td>12410168.614</td>\n",
       "    </tr>\n",
       "    <tr>\n",
       "      <th>33</th>\n",
       "      <td>34</td>\n",
       "      <td>12060973.125</td>\n",
       "    </tr>\n",
       "    <tr>\n",
       "      <th>17</th>\n",
       "      <td>18</td>\n",
       "      <td>11776462.931</td>\n",
       "    </tr>\n",
       "    <tr>\n",
       "      <th>25</th>\n",
       "      <td>26</td>\n",
       "      <td>11695770.147</td>\n",
       "    </tr>\n",
       "    <tr>\n",
       "      <th>39</th>\n",
       "      <td>40</td>\n",
       "      <td>11655447.306</td>\n",
       "    </tr>\n",
       "    <tr>\n",
       "      <th>7</th>\n",
       "      <td>8</td>\n",
       "      <td>11567245.763</td>\n",
       "    </tr>\n",
       "    <tr>\n",
       "      <th>16</th>\n",
       "      <td>17</td>\n",
       "      <td>10499993.124</td>\n",
       "    </tr>\n",
       "    <tr>\n",
       "      <th>34</th>\n",
       "      <td>35</td>\n",
       "      <td>10393528.052</td>\n",
       "    </tr>\n",
       "    <tr>\n",
       "      <th>20</th>\n",
       "      <td>21</td>\n",
       "      <td>9866126.926</td>\n",
       "    </tr>\n",
       "    <tr>\n",
       "      <th>44</th>\n",
       "      <td>45</td>\n",
       "      <td>9773975.088</td>\n",
       "    </tr>\n",
       "    <tr>\n",
       "      <th>24</th>\n",
       "      <td>25</td>\n",
       "      <td>7746415.125</td>\n",
       "    </tr>\n",
       "    <tr>\n",
       "      <th>14</th>\n",
       "      <td>15</td>\n",
       "      <td>7598005.335</td>\n",
       "    </tr>\n",
       "    <tr>\n",
       "      <th>6</th>\n",
       "      <td>7</td>\n",
       "      <td>7411278.229</td>\n",
       "    </tr>\n",
       "    <tr>\n",
       "      <th>42</th>\n",
       "      <td>43</td>\n",
       "      <td>7327300.082</td>\n",
       "    </tr>\n",
       "    <tr>\n",
       "      <th>8</th>\n",
       "      <td>9</td>\n",
       "      <td>7108226.755</td>\n",
       "    </tr>\n",
       "    <tr>\n",
       "      <th>15</th>\n",
       "      <td>16</td>\n",
       "      <td>6708280.702</td>\n",
       "    </tr>\n",
       "    <tr>\n",
       "      <th>28</th>\n",
       "      <td>29</td>\n",
       "      <td>6556574.990</td>\n",
       "    </tr>\n",
       "    <tr>\n",
       "      <th>36</th>\n",
       "      <td>37</td>\n",
       "      <td>6398703.381</td>\n",
       "    </tr>\n",
       "    <tr>\n",
       "      <th>41</th>\n",
       "      <td>42</td>\n",
       "      <td>6379437.831</td>\n",
       "    </tr>\n",
       "    <tr>\n",
       "      <th>29</th>\n",
       "      <td>30</td>\n",
       "      <td>5144465.379</td>\n",
       "    </tr>\n",
       "    <tr>\n",
       "      <th>2</th>\n",
       "      <td>3</td>\n",
       "      <td>5065245.967</td>\n",
       "    </tr>\n",
       "    <tr>\n",
       "      <th>37</th>\n",
       "      <td>38</td>\n",
       "      <td>4991815.451</td>\n",
       "    </tr>\n",
       "    <tr>\n",
       "      <th>4</th>\n",
       "      <td>5</td>\n",
       "      <td>4046817.475</td>\n",
       "    </tr>\n",
       "    <tr>\n",
       "      <th>35</th>\n",
       "      <td>36</td>\n",
       "      <td>3811174.627</td>\n",
       "    </tr>\n",
       "    <tr>\n",
       "      <th>43</th>\n",
       "      <td>44</td>\n",
       "      <td>3707377.448</td>\n",
       "    </tr>\n",
       "    <tr>\n",
       "      <th>32</th>\n",
       "      <td>33</td>\n",
       "      <td>2981750.127</td>\n",
       "    </tr>\n",
       "  </tbody>\n",
       "</table>\n",
       "</div>"
      ],
      "text/plain": [
       "    Store  Predicted_Sales\n",
       "19     20     25740154.736\n",
       "3       4     25074167.826\n",
       "12     13     24685932.909\n",
       "1       2     23958310.737\n",
       "9      10     23423044.275\n",
       "13     14     22784394.956\n",
       "26     27     20688431.676\n",
       "5       6     19300220.438\n",
       "0       1     19294699.433\n",
       "38     39     18523407.700\n",
       "18     19     17867846.459\n",
       "30     31     17360081.345\n",
       "10     11     17354010.745\n",
       "22     23     17107413.059\n",
       "23     24     16365454.018\n",
       "27     28     16148189.062\n",
       "40     41     15736418.774\n",
       "31     32     14544840.645\n",
       "11     12     12640010.735\n",
       "21     22     12410168.614\n",
       "33     34     12060973.125\n",
       "17     18     11776462.931\n",
       "25     26     11695770.147\n",
       "39     40     11655447.306\n",
       "7       8     11567245.763\n",
       "16     17     10499993.124\n",
       "34     35     10393528.052\n",
       "20     21      9866126.926\n",
       "44     45      9773975.088\n",
       "24     25      7746415.125\n",
       "14     15      7598005.335\n",
       "6       7      7411278.229\n",
       "42     43      7327300.082\n",
       "8       9      7108226.755\n",
       "15     16      6708280.702\n",
       "28     29      6556574.990\n",
       "36     37      6398703.381\n",
       "41     42      6379437.831\n",
       "29     30      5144465.379\n",
       "2       3      5065245.967\n",
       "37     38      4991815.451\n",
       "4       5      4046817.475\n",
       "35     36      3811174.627\n",
       "43     44      3707377.448\n",
       "32     33      2981750.127"
      ]
     },
     "execution_count": 38,
     "metadata": {},
     "output_type": "execute_result"
    }
   ],
   "source": [
    "nfd.sort_values(by='Predicted_Sales',ascending=False) #Future Sales of Stores in Descending Order"
   ]
  },
  {
   "cell_type": "code",
   "execution_count": 39,
   "id": "403399c4",
   "metadata": {},
   "outputs": [],
   "source": [
    "#Save Walmart Predicted Sales of Each Store for Next 12 Weeks\n",
    "#newfuture.to_csv('C:\\\\Users\\\\sysab\\\\OneDrive\\\\Desktop\\\\walmartfuture.csv')"
   ]
  }
 ],
 "metadata": {
  "kernelspec": {
   "display_name": "Python 3 (ipykernel)",
   "language": "python",
   "name": "python3"
  },
  "language_info": {
   "codemirror_mode": {
    "name": "ipython",
    "version": 3
   },
   "file_extension": ".py",
   "mimetype": "text/x-python",
   "name": "python",
   "nbconvert_exporter": "python",
   "pygments_lexer": "ipython3",
   "version": "3.10.9"
  }
 },
 "nbformat": 4,
 "nbformat_minor": 5
}
